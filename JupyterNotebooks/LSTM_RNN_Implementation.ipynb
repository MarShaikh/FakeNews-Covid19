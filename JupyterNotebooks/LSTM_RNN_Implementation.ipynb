{
 "cells": [
  {
   "cell_type": "markdown",
   "metadata": {},
   "source": [
    "# Model without spatio temporal features"
   ]
  },
  {
   "cell_type": "code",
   "execution_count": 1,
   "metadata": {},
   "outputs": [],
   "source": [
    "%matplotlib inline\n",
    "\n",
    "import pandas as pd\n",
    "import numpy as np\n",
    "import matplotlib.pyplot as plt\n",
    "import re\n",
    "\n",
    "from time import time\n",
    "from tensorflow.keras.models import Sequential, load_model, model_from_json\n",
    "from tensorflow.keras.layers import Activation, Dropout, Flatten, Dense, BatchNormalization, LSTM, Embedding, Reshape\n",
    "from tensorflow.keras.callbacks import TensorBoard\n",
    "from sklearn.model_selection import train_test_split\n",
    "\n",
    "import os, sys\n",
    "import string\n",
    "\n",
    "from urllib.request import urlretrieve\n",
    "\n",
    "from os import mkdir, makedirs, remove, listdir\n",
    "\n",
    "from collections import Counter\n",
    "\n",
    "from python_utils import *\n"
   ]
  },
  {
   "cell_type": "code",
   "execution_count": 17,
   "metadata": {},
   "outputs": [],
   "source": [
    "#loading the dataset\n",
    "df = pd.read_csv(\"../DataSets/26_5_Final-Merged-File.csv\", encoding='utf-8')"
   ]
  },
  {
   "cell_type": "markdown",
   "metadata": {},
   "source": [
    "# Data preprocessing"
   ]
  },
  {
   "cell_type": "code",
   "execution_count": 18,
   "metadata": {},
   "outputs": [
    {
     "data": {
      "text/plain": [
       "Index(['title ', 'text', 'date', 'country', 'label', 'URL'], dtype='object')"
      ]
     },
     "execution_count": 18,
     "metadata": {},
     "output_type": "execute_result"
    }
   ],
   "source": [
    "pd.set_option('display.max_colwidth', -1)\n",
    "df.columns\n",
    "#needed are title, text, label, URL"
   ]
  },
  {
   "cell_type": "code",
   "execution_count": 19,
   "metadata": {},
   "outputs": [
    {
     "data": {
      "text/plain": [
       "title      2901\n",
       "text       2894\n",
       "date       2901\n",
       "country    2901\n",
       "label      2901\n",
       "URL        2901\n",
       "dtype: int64"
      ]
     },
     "execution_count": 19,
     "metadata": {},
     "output_type": "execute_result"
    }
   ],
   "source": [
    "df.count()"
   ]
  },
  {
   "cell_type": "code",
   "execution_count": 20,
   "metadata": {},
   "outputs": [
    {
     "data": {
      "text/plain": [
       "array(['FALSE', 'Pants on Fire!', 'misleading', 'Explanatory',\n",
       "       'Partly false', 'Mostly False', 'PARTLY FALSE', 'MISLEADING',\n",
       "       'Misleading', 'No Evidence', 'Mainly false', 'Mostly false',\n",
       "       'No evidence', 'Partially false', 'Misleading/False',\n",
       "       'MOSTLY TRUE', 'Partly true', 'false and misleading', 'HALF TRUE',\n",
       "       'Mostly True', \"(Org. doesn't apply rating)\", 'Fake', 'Correct',\n",
       "       'Unlikely', 'Conspiracy theory', 'Partially true', 'Not true',\n",
       "       'Half True', 'MOSTLY FALSE', 'PARTLY TRUE', 'TRUE', nan],\n",
       "      dtype=object)"
      ]
     },
     "execution_count": 20,
     "metadata": {},
     "output_type": "execute_result"
    }
   ],
   "source": [
    "df.label.unique()"
   ]
  },
  {
   "cell_type": "code",
   "execution_count": 21,
   "metadata": {},
   "outputs": [],
   "source": [
    "#converting our problem into a binary classification problem\n",
    "df['label'] = df['label'].replace({\n",
    "                                        'FALSE' : 'False',\n",
    "                                        'Pants on Fire!' : 'False', \n",
    "                                        'misleading': 'False',\n",
    "                                        'Partly false' : 'False',\n",
    "                                        'Mostly False' : 'False',\n",
    "                                        'PARTLY FALSE' : 'False',\n",
    "                                        'MISLEADING' : 'False',\n",
    "                                        'Misleading' : 'False',\n",
    "                                        'Mainly false' : 'False',\n",
    "                                        'Mostly false' : 'False',\n",
    "                                        'Partially false' : 'False',\n",
    "                                        'Misleading/False' : 'False',\n",
    "                                        'false and misleading' : 'False',\n",
    "                                        'Fake' : 'False',\n",
    "                                        'Unlikely' : 'False',\n",
    "                                        'Not true' : 'False',\n",
    "                                        'MOSTLY FALSE' : 'False',\n",
    "                                        'Conspiracy theory' : 'False',\n",
    "                                        'MOSTLY TRUE' : 'True',\n",
    "                                        'Partly true' : 'True',\n",
    "                                        'Mostly True' : 'True',\n",
    "                                        'Correct' : 'True',\n",
    "                                        'Half True' : 'True',\n",
    "                                        'HALF TRUE' : 'True',\n",
    "                                        'Partially true' : 'True',\n",
    "                                        'PARTLY TRUE' : 'True',\n",
    "                                        'TRUE' : 'True',\n",
    "                                  })"
   ]
  },
  {
   "cell_type": "code",
   "execution_count": 22,
   "metadata": {},
   "outputs": [
    {
     "data": {
      "text/plain": [
       "False                          1635\n",
       "True                           1236\n",
       "Explanatory                    13  \n",
       "No evidence                    11  \n",
       "(Org. doesn't apply rating)    5   \n",
       "No Evidence                    1   \n",
       "Name: label, dtype: int64"
      ]
     },
     "execution_count": 22,
     "metadata": {},
     "output_type": "execute_result"
    }
   ],
   "source": [
    "df.label.value_counts()"
   ]
  },
  {
   "cell_type": "code",
   "execution_count": 23,
   "metadata": {},
   "outputs": [],
   "source": [
    "#removing anything except 'True' or 'False'\n",
    "df = df[df['label'].isin(['False', 'True'])]"
   ]
  },
  {
   "cell_type": "code",
   "execution_count": 24,
   "metadata": {},
   "outputs": [
    {
     "data": {
      "text/plain": [
       "False    1635\n",
       "True     1236\n",
       "Name: label, dtype: int64"
      ]
     },
     "execution_count": 24,
     "metadata": {},
     "output_type": "execute_result"
    }
   ],
   "source": [
    "df.label.value_counts()"
   ]
  },
  {
   "cell_type": "code",
   "execution_count": 25,
   "metadata": {},
   "outputs": [
    {
     "data": {
      "text/plain": [
       "title      object\n",
       "text       object\n",
       "date       object\n",
       "country    object\n",
       "label      object\n",
       "URL        object\n",
       "dtype: object"
      ]
     },
     "execution_count": 25,
     "metadata": {},
     "output_type": "execute_result"
    }
   ],
   "source": [
    "df.dtypes"
   ]
  },
  {
   "cell_type": "code",
   "execution_count": 26,
   "metadata": {},
   "outputs": [],
   "source": [
    "df.label = df.label.map({'False':False, 'True':True})"
   ]
  },
  {
   "cell_type": "code",
   "execution_count": 27,
   "metadata": {},
   "outputs": [
    {
     "data": {
      "text/plain": [
       "title      object\n",
       "text       object\n",
       "date       object\n",
       "country    object\n",
       "label      bool  \n",
       "URL        object\n",
       "dtype: object"
      ]
     },
     "execution_count": 27,
     "metadata": {},
     "output_type": "execute_result"
    }
   ],
   "source": [
    "df.dtypes"
   ]
  },
  {
   "cell_type": "markdown",
   "metadata": {},
   "source": [
    "# Cleaning Data"
   ]
  },
  {
   "cell_type": "code",
   "execution_count": 36,
   "metadata": {},
   "outputs": [],
   "source": [
    "#converting to a text array first\n",
    "all_text = []\n",
    "\n",
    "all_text.extend(list(df.text.values))"
   ]
  },
  {
   "cell_type": "code",
   "execution_count": 37,
   "metadata": {},
   "outputs": [
    {
     "data": {
      "text/plain": [
       "['Circulating on social networks a video that shows an excerpt from a Spanish television show, supposedly issued December 24, 2019, in which it appears a woman (who claims to be psychic) ??to make \"predictions\". In this video, the woman describes a set of events that have been interpreted as a detailed forecast of Covid-19 pandemic that has hit the world. It is, however, a fake video, at least as regards the date of issue. The video has been being disseminated on the Internet with a date and not tampered with the real.']"
      ]
     },
     "execution_count": 37,
     "metadata": {},
     "output_type": "execute_result"
    }
   ],
   "source": [
    "all_text[:1]"
   ]
  },
  {
   "cell_type": "code",
   "execution_count": 38,
   "metadata": {},
   "outputs": [],
   "source": [
    "def clean_text(txt):\n",
    "    \n",
    "    #removing numbers and punctuations\n",
    "    text = re.sub(r\"[^a-zA-Z]\", ' ', txt)\n",
    "    \n",
    "    #removing multiple spaces\n",
    "    text = re.sub(r\"\\s+\", ' ', text)\n",
    "    \n",
    "    #single character removal\n",
    "    text = re.sub(r\"\\s+[a-zA-Z]\\s+\", ' ', text)\n",
    "    \n",
    "    #converting to lower case\n",
    "    text = text.lower()\n",
    "    \n",
    "    return text\n",
    "\n",
    "corpus = [clean_text(str(x)) for x in all_text]"
   ]
  },
  {
   "cell_type": "code",
   "execution_count": 39,
   "metadata": {},
   "outputs": [
    {
     "data": {
      "text/plain": [
       "['circulating on social networks video that shows an excerpt from spanish television show supposedly issued december in which it appears woman who claims to be psychic to make predictions in this video the woman describes set of events that have been interpreted as detailed forecast of covid pandemic that has hit the world it is however fake video at least as regards the date of issue the video has been being disseminated on the internet with date and not tampered with the real ']"
      ]
     },
     "execution_count": 39,
     "metadata": {},
     "output_type": "execute_result"
    }
   ],
   "source": [
    "#testing whether the cleaning process took place successfully or not.\n",
    "corpus[:1]"
   ]
  },
  {
   "cell_type": "code",
   "execution_count": 41,
   "metadata": {},
   "outputs": [],
   "source": [
    "#counting average length of words found in the corpus\n",
    "\n",
    "def avg_wl(txt):\n",
    "    words = txt.split()\n",
    "    mean = sum(len(word) for word in words)/len(words)\n",
    "    \n",
    "    return mean\n",
    "\n",
    "avg_word_len = [avg_wl(sentence) for sentence in corpus]"
   ]
  },
  {
   "cell_type": "code",
   "execution_count": 43,
   "metadata": {},
   "outputs": [],
   "source": [
    "df['avg_word_len'] = avg_word_len"
   ]
  },
  {
   "cell_type": "code",
   "execution_count": 47,
   "metadata": {},
   "outputs": [],
   "source": [
    "#finding number of words present in each sentence within the corpus\n",
    "\n",
    "len_sentences = [len(s.split()) for s in corpus]"
   ]
  },
  {
   "cell_type": "code",
   "execution_count": 49,
   "metadata": {},
   "outputs": [],
   "source": [
    "df['len_sentences'] = len_sentences"
   ]
  },
  {
   "cell_type": "code",
   "execution_count": 52,
   "metadata": {},
   "outputs": [
    {
     "data": {
      "text/html": [
       "<div>\n",
       "<style scoped>\n",
       "    .dataframe tbody tr th:only-of-type {\n",
       "        vertical-align: middle;\n",
       "    }\n",
       "\n",
       "    .dataframe tbody tr th {\n",
       "        vertical-align: top;\n",
       "    }\n",
       "\n",
       "    .dataframe thead th {\n",
       "        text-align: right;\n",
       "    }\n",
       "</style>\n",
       "<table border=\"1\" class=\"dataframe\">\n",
       "  <thead>\n",
       "    <tr style=\"text-align: right;\">\n",
       "      <th></th>\n",
       "      <th>title</th>\n",
       "      <th>text</th>\n",
       "      <th>date</th>\n",
       "      <th>country</th>\n",
       "      <th>label</th>\n",
       "      <th>URL</th>\n",
       "      <th>avg_word_len</th>\n",
       "      <th>len_sentences</th>\n",
       "    </tr>\n",
       "  </thead>\n",
       "  <tbody>\n",
       "    <tr>\n",
       "      <th>0</th>\n",
       "      <td>A video shows a fortune teller predicting the coronavirus pandemic in December on Spanish TV.</td>\n",
       "      <td>Circulating on social networks a video that shows an excerpt from a Spanish television show, supposedly issued December 24, 2019, in which it appears a woman (who claims to be psychic) ??to make \"predictions\". In this video, the woman describes a set of events that have been interpreted as a detailed forecast of Covid-19 pandemic that has hit the world. It is, however, a fake video, at least as regards the date of issue. The video has been being disseminated on the Internet with a date and not tampered with the real.</td>\n",
       "      <td>08-04-2020</td>\n",
       "      <td>Portugal</td>\n",
       "      <td>False</td>\n",
       "      <td>https://observador.pt/factchecks/fact-check-uma-vidente-previu-a-pandemia-da-covid-19-na-televisao-espanhola-em-dezembro/</td>\n",
       "      <td>4.795181</td>\n",
       "      <td>83</td>\n",
       "    </tr>\n",
       "  </tbody>\n",
       "</table>\n",
       "</div>"
      ],
      "text/plain": [
       "                                                                                           title   \\\n",
       "0   A video shows a fortune teller predicting the coronavirus pandemic in December on Spanish TV.   \n",
       "\n",
       "                                                                                                                                                                                                                                                                                                                                                                                                                                                                                                                                         text  \\\n",
       "0  Circulating on social networks a video that shows an excerpt from a Spanish television show, supposedly issued December 24, 2019, in which it appears a woman (who claims to be psychic) ??to make \"predictions\". In this video, the woman describes a set of events that have been interpreted as a detailed forecast of Covid-19 pandemic that has hit the world. It is, however, a fake video, at least as regards the date of issue. The video has been being disseminated on the Internet with a date and not tampered with the real.   \n",
       "\n",
       "         date    country  label  \\\n",
       "0  08-04-2020   Portugal  False   \n",
       "\n",
       "                                                                                                                         URL  \\\n",
       "0  https://observador.pt/factchecks/fact-check-uma-vidente-previu-a-pandemia-da-covid-19-na-televisao-espanhola-em-dezembro/   \n",
       "\n",
       "   avg_word_len  len_sentences  \n",
       "0  4.795181      83             "
      ]
     },
     "execution_count": 52,
     "metadata": {},
     "output_type": "execute_result"
    }
   ],
   "source": [
    "df.head(1)"
   ]
  },
  {
   "cell_type": "code",
   "execution_count": 66,
   "metadata": {},
   "outputs": [
    {
     "data": {
      "image/png": "[encoded data removed]",
      "text/plain": [
       "<Figure size 288x648 with 2 Axes>"
      ]
     },
     "metadata": {},
     "output_type": "display_data"
    }
   ],
   "source": [
    "import seaborn as sns\n",
    "l = ['avg_word_len', 'len_sentences']\n",
    "number_of_columns = 2\n",
    "number_of_rows = len(l)-1/number_of_columns\n",
    "plt.figure(figsize=(2*number_of_columns,6*number_of_rows))\n",
    "for i in range(0,len(l)):\n",
    "    plt.subplot(number_of_rows + 1,number_of_columns,i+1)\n",
    "    sns.set_style('whitegrid')\n",
    "    sns.boxplot(df[l[i]],color='green',orient='v')\n",
    "    plt.tight_layout()"
   ]
  },
  {
   "cell_type": "code",
   "execution_count": 128,
   "metadata": {},
   "outputs": [
    {
     "name": "stdout",
     "output_type": "stream",
     "text": [
      "Percentage of articles that have a word count of more than 1500 is 0.88%\n"
     ]
    }
   ],
   "source": [
    "sum = 0\n",
    "for x in range(1500, 4000, 1000 ):\n",
    "    results = df[df['len_sentences'] > x]\n",
    "    sum = sum + results['title '].size\n",
    "    \n",
    "amt = (sum/df['title '].size)*100\n",
    "print('Percentage of articles that have a word count of more than 1500 is {percent:.2f}%'.format(percent = amt))"
   ]
  },
  {
   "cell_type": "code",
   "execution_count": 121,
   "metadata": {},
   "outputs": [
    {
     "data": {
      "text/plain": [
       "<matplotlib.axes._subplots.AxesSubplot at 0x1a4aa25390>"
      ]
     },
     "execution_count": 121,
     "metadata": {},
     "output_type": "execute_result"
    },
    {
     "data": {
      "image/png": "[encoded data removed]",
      "text/plain": [
       "<Figure size 432x288 with 1 Axes>"
      ]
     },
     "metadata": {},
     "output_type": "display_data"
    }
   ],
   "source": [
    "#articles of word count more than 1900 are thus being dropped\n",
    "result_df = df[df['len_sentences']>=1900]\n",
    "\n",
    "df.drop(df[df['len_sentences'] >= 1900].index, inplace = True) \n",
    "sns.boxplot(df['len_sentences'],color='green',orient='v')"
   ]
  }
 ],
 "metadata": {
  "kernelspec": {
   "display_name": "Python 3",
   "language": "python",
   "name": "python3"
  },
  "language_info": {
   "codemirror_mode": {
    "name": "ipython",
    "version": 3
   },
   "file_extension": ".py",
   "mimetype": "text/x-python",
   "name": "python",
   "nbconvert_exporter": "python",
   "pygments_lexer": "ipython3",
   "version": "3.7.5"
  }
 },
 "nbformat": 4,
 "nbformat_minor": 2
}

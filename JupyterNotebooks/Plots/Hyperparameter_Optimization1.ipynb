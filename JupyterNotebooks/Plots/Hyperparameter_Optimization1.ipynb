{
 "cells": [
  {
   "cell_type": "code",
   "execution_count": 2,
   "metadata": {},
   "outputs": [],
   "source": [
    "import seaborn as sns\n",
    "import pandas as pd\n",
    "import matplotlib.pyplot as plt"
   ]
  },
  {
   "cell_type": "code",
   "execution_count": 3,
   "metadata": {},
   "outputs": [],
   "source": [
    "#loading data\n",
    "df = pd.read_csv('../HPO/model_without_spatio_temporal.csv')"
   ]
  },
  {
   "cell_type": "code",
   "execution_count": 4,
   "metadata": {
    "scrolled": true
   },
   "outputs": [
    {
     "data": {
      "text/html": [
       "<div>\n",
       "<style scoped>\n",
       "    .dataframe tbody tr th:only-of-type {\n",
       "        vertical-align: middle;\n",
       "    }\n",
       "\n",
       "    .dataframe tbody tr th {\n",
       "        vertical-align: top;\n",
       "    }\n",
       "\n",
       "    .dataframe thead th {\n",
       "        text-align: right;\n",
       "    }\n",
       "</style>\n",
       "<table border=\"1\" class=\"dataframe\">\n",
       "  <thead>\n",
       "    <tr style=\"text-align: right;\">\n",
       "      <th></th>\n",
       "      <th>round_epochs</th>\n",
       "      <th>loss</th>\n",
       "      <th>acc</th>\n",
       "      <th>f1score</th>\n",
       "      <th>val_loss</th>\n",
       "      <th>val_acc</th>\n",
       "      <th>val_f1score</th>\n",
       "      <th>activation</th>\n",
       "      <th>batch_size</th>\n",
       "      <th>dense</th>\n",
       "      <th>dropout</th>\n",
       "      <th>epochs</th>\n",
       "      <th>neurons</th>\n",
       "    </tr>\n",
       "  </thead>\n",
       "  <tbody>\n",
       "    <tr>\n",
       "      <th>0</th>\n",
       "      <td>10</td>\n",
       "      <td>0.447935</td>\n",
       "      <td>0.819577</td>\n",
       "      <td>0.820098</td>\n",
       "      <td>0.493133</td>\n",
       "      <td>0.783262</td>\n",
       "      <td>0.781481</td>\n",
       "      <td>relu</td>\n",
       "      <td>64</td>\n",
       "      <td>10</td>\n",
       "      <td>0.1</td>\n",
       "      <td>10</td>\n",
       "      <td>64</td>\n",
       "    </tr>\n",
       "    <tr>\n",
       "      <th>1</th>\n",
       "      <td>10</td>\n",
       "      <td>0.464014</td>\n",
       "      <td>0.772487</td>\n",
       "      <td>0.773744</td>\n",
       "      <td>0.485752</td>\n",
       "      <td>0.800429</td>\n",
       "      <td>0.800579</td>\n",
       "      <td>relu</td>\n",
       "      <td>64</td>\n",
       "      <td>10</td>\n",
       "      <td>0.1</td>\n",
       "      <td>10</td>\n",
       "      <td>128</td>\n",
       "    </tr>\n",
       "    <tr>\n",
       "      <th>2</th>\n",
       "      <td>30</td>\n",
       "      <td>0.462166</td>\n",
       "      <td>0.797884</td>\n",
       "      <td>0.795986</td>\n",
       "      <td>0.489491</td>\n",
       "      <td>0.784335</td>\n",
       "      <td>0.788194</td>\n",
       "      <td>relu</td>\n",
       "      <td>64</td>\n",
       "      <td>10</td>\n",
       "      <td>0.1</td>\n",
       "      <td>30</td>\n",
       "      <td>64</td>\n",
       "    </tr>\n",
       "    <tr>\n",
       "      <th>3</th>\n",
       "      <td>30</td>\n",
       "      <td>0.452602</td>\n",
       "      <td>0.812698</td>\n",
       "      <td>0.813327</td>\n",
       "      <td>0.475532</td>\n",
       "      <td>0.801502</td>\n",
       "      <td>0.803241</td>\n",
       "      <td>relu</td>\n",
       "      <td>64</td>\n",
       "      <td>10</td>\n",
       "      <td>0.1</td>\n",
       "      <td>30</td>\n",
       "      <td>128</td>\n",
       "    </tr>\n",
       "    <tr>\n",
       "      <th>4</th>\n",
       "      <td>50</td>\n",
       "      <td>0.440726</td>\n",
       "      <td>0.814815</td>\n",
       "      <td>0.814032</td>\n",
       "      <td>0.467428</td>\n",
       "      <td>0.785408</td>\n",
       "      <td>0.783565</td>\n",
       "      <td>relu</td>\n",
       "      <td>64</td>\n",
       "      <td>10</td>\n",
       "      <td>0.1</td>\n",
       "      <td>50</td>\n",
       "      <td>64</td>\n",
       "    </tr>\n",
       "  </tbody>\n",
       "</table>\n",
       "</div>"
      ],
      "text/plain": [
       "   round_epochs      loss       acc   f1score  val_loss   val_acc  \\\n",
       "0            10  0.447935  0.819577  0.820098  0.493133  0.783262   \n",
       "1            10  0.464014  0.772487  0.773744  0.485752  0.800429   \n",
       "2            30  0.462166  0.797884  0.795986  0.489491  0.784335   \n",
       "3            30  0.452602  0.812698  0.813327  0.475532  0.801502   \n",
       "4            50  0.440726  0.814815  0.814032  0.467428  0.785408   \n",
       "\n",
       "   val_f1score activation  batch_size  dense  dropout  epochs  neurons  \n",
       "0     0.781481       relu          64     10      0.1      10       64  \n",
       "1     0.800579       relu          64     10      0.1      10      128  \n",
       "2     0.788194       relu          64     10      0.1      30       64  \n",
       "3     0.803241       relu          64     10      0.1      30      128  \n",
       "4     0.783565       relu          64     10      0.1      50       64  "
      ]
     },
     "execution_count": 4,
     "metadata": {},
     "output_type": "execute_result"
    }
   ],
   "source": [
    "df.head()"
   ]
  },
  {
   "cell_type": "code",
   "execution_count": 5,
   "metadata": {},
   "outputs": [
    {
     "data": {
      "text/plain": [
       "83"
      ]
     },
     "execution_count": 5,
     "metadata": {},
     "output_type": "execute_result"
    }
   ],
   "source": [
    "len(df.index)"
   ]
  },
  {
   "cell_type": "code",
   "execution_count": 6,
   "metadata": {},
   "outputs": [
    {
     "data": {
      "text/plain": [
       "round_epochs      int64\n",
       "loss            float64\n",
       "acc             float64\n",
       "f1score         float64\n",
       "val_loss        float64\n",
       "val_acc         float64\n",
       "val_f1score     float64\n",
       "activation       object\n",
       "batch_size        int64\n",
       "dense             int64\n",
       "dropout         float64\n",
       "epochs            int64\n",
       "neurons           int64\n",
       "dtype: object"
      ]
     },
     "execution_count": 6,
     "metadata": {},
     "output_type": "execute_result"
    }
   ],
   "source": [
    "df.dtypes"
   ]
  },
  {
   "cell_type": "code",
   "execution_count": 20,
   "metadata": {},
   "outputs": [
    {
     "data": {
      "image/png": "[encoded data removed]",
      "text/plain": [
       "<Figure size 786.25x360 with 2 Axes>"
      ]
     },
     "metadata": {
      "needs_background": "light"
     },
     "output_type": "display_data"
    }
   ],
   "source": [
    "sns.relplot(x=\"epochs\", y=\"val_acc\", col=\"activation\", style='dense',\n",
    "            kind=\"line\", data=df);"
   ]
  },
  {
   "cell_type": "code",
   "execution_count": 8,
   "metadata": {},
   "outputs": [
    {
     "data": {
      "image/png": "[encoded data removed]",
      "text/plain": [
       "<Figure size 772x360 with 2 Axes>"
      ]
     },
     "metadata": {
      "needs_background": "light"
     },
     "output_type": "display_data"
    }
   ],
   "source": [
    "sns.catplot(x=\"epochs\", y=\"val_acc\", palette = 'Blues_d',hue=\"dropout\", col='batch_size',\n",
    "            kind=\"bar\", data=df);"
   ]
  },
  {
   "cell_type": "code",
   "execution_count": 15,
   "metadata": {},
   "outputs": [
    {
     "data": {
      "image/png": "[encoded data removed]",
      "text/plain": [
       "<Figure size 1132x360 with 3 Axes>"
      ]
     },
     "metadata": {
      "needs_background": "light"
     },
     "output_type": "display_data"
    }
   ],
   "source": [
    "sns.catplot(x=\"dense\", y=\"val_acc\", palette = 'Blues_d',hue=\"dropout\", col='epochs',\n",
    "            kind=\"bar\", data=df);"
   ]
  },
  {
   "cell_type": "code",
   "execution_count": 10,
   "metadata": {},
   "outputs": [
    {
     "data": {
      "text/plain": [
       "[(0.76, 0.82)]"
      ]
     },
     "execution_count": 10,
     "metadata": {},
     "output_type": "execute_result"
    },
    {
     "data": {
      "image/png": "[encoded data removed]",
      "text/plain": [
       "<Figure size 432x288 with 1 Axes>"
      ]
     },
     "metadata": {
      "needs_background": "light"
     },
     "output_type": "display_data"
    }
   ],
   "source": [
    "x=df['dropout']\n",
    "y=df['val_acc']\n",
    "ax = sns.kdeplot(x, y, shade=True)\n",
    "ax.set(ylim=(0.76, 0.82))"
   ]
  },
  {
   "cell_type": "code",
   "execution_count": 11,
   "metadata": {},
   "outputs": [
    {
     "data": {
      "text/html": [
       "<div>\n",
       "<style scoped>\n",
       "    .dataframe tbody tr th:only-of-type {\n",
       "        vertical-align: middle;\n",
       "    }\n",
       "\n",
       "    .dataframe tbody tr th {\n",
       "        vertical-align: top;\n",
       "    }\n",
       "\n",
       "    .dataframe thead th {\n",
       "        text-align: right;\n",
       "    }\n",
       "</style>\n",
       "<table border=\"1\" class=\"dataframe\">\n",
       "  <thead>\n",
       "    <tr style=\"text-align: right;\">\n",
       "      <th></th>\n",
       "      <th>round_epochs</th>\n",
       "      <th>loss</th>\n",
       "      <th>acc</th>\n",
       "      <th>f1score</th>\n",
       "      <th>val_loss</th>\n",
       "      <th>val_acc</th>\n",
       "      <th>val_f1score</th>\n",
       "      <th>activation</th>\n",
       "      <th>batch_size</th>\n",
       "      <th>dense</th>\n",
       "      <th>dropout</th>\n",
       "      <th>epochs</th>\n",
       "      <th>neurons</th>\n",
       "    </tr>\n",
       "  </thead>\n",
       "  <tbody>\n",
       "    <tr>\n",
       "      <th>52</th>\n",
       "      <td>50</td>\n",
       "      <td>0.446768</td>\n",
       "      <td>0.816931</td>\n",
       "      <td>0.816115</td>\n",
       "      <td>0.468802</td>\n",
       "      <td>0.803648</td>\n",
       "      <td>0.802083</td>\n",
       "      <td>elu</td>\n",
       "      <td>64</td>\n",
       "      <td>10</td>\n",
       "      <td>0.1</td>\n",
       "      <td>50</td>\n",
       "      <td>64</td>\n",
       "    </tr>\n",
       "    <tr>\n",
       "      <th>64</th>\n",
       "      <td>50</td>\n",
       "      <td>0.428360</td>\n",
       "      <td>0.826984</td>\n",
       "      <td>0.827849</td>\n",
       "      <td>0.464851</td>\n",
       "      <td>0.803648</td>\n",
       "      <td>0.804514</td>\n",
       "      <td>elu</td>\n",
       "      <td>64</td>\n",
       "      <td>20</td>\n",
       "      <td>0.1</td>\n",
       "      <td>50</td>\n",
       "      <td>64</td>\n",
       "    </tr>\n",
       "    <tr>\n",
       "      <th>67</th>\n",
       "      <td>10</td>\n",
       "      <td>0.519039</td>\n",
       "      <td>0.788360</td>\n",
       "      <td>0.790288</td>\n",
       "      <td>0.501568</td>\n",
       "      <td>0.803648</td>\n",
       "      <td>0.803704</td>\n",
       "      <td>elu</td>\n",
       "      <td>64</td>\n",
       "      <td>20</td>\n",
       "      <td>0.3</td>\n",
       "      <td>10</td>\n",
       "      <td>128</td>\n",
       "    </tr>\n",
       "  </tbody>\n",
       "</table>\n",
       "</div>"
      ],
      "text/plain": [
       "    round_epochs      loss       acc   f1score  val_loss   val_acc  \\\n",
       "52            50  0.446768  0.816931  0.816115  0.468802  0.803648   \n",
       "64            50  0.428360  0.826984  0.827849  0.464851  0.803648   \n",
       "67            10  0.519039  0.788360  0.790288  0.501568  0.803648   \n",
       "\n",
       "    val_f1score activation  batch_size  dense  dropout  epochs  neurons  \n",
       "52     0.802083        elu          64     10      0.1      50       64  \n",
       "64     0.804514        elu          64     20      0.1      50       64  \n",
       "67     0.803704        elu          64     20      0.3      10      128  "
      ]
     },
     "execution_count": 11,
     "metadata": {},
     "output_type": "execute_result"
    }
   ],
   "source": [
    "df[df['val_acc'] == df['val_acc'].max()]"
   ]
  },
  {
   "cell_type": "code",
   "execution_count": 12,
   "metadata": {},
   "outputs": [
    {
     "data": {
      "text/html": [
       "<div>\n",
       "<style scoped>\n",
       "    .dataframe tbody tr th:only-of-type {\n",
       "        vertical-align: middle;\n",
       "    }\n",
       "\n",
       "    .dataframe tbody tr th {\n",
       "        vertical-align: top;\n",
       "    }\n",
       "\n",
       "    .dataframe thead th {\n",
       "        text-align: right;\n",
       "    }\n",
       "</style>\n",
       "<table border=\"1\" class=\"dataframe\">\n",
       "  <thead>\n",
       "    <tr style=\"text-align: right;\">\n",
       "      <th></th>\n",
       "      <th>round_epochs</th>\n",
       "      <th>loss</th>\n",
       "      <th>acc</th>\n",
       "      <th>f1score</th>\n",
       "      <th>val_loss</th>\n",
       "      <th>val_acc</th>\n",
       "      <th>val_f1score</th>\n",
       "      <th>activation</th>\n",
       "      <th>batch_size</th>\n",
       "      <th>dense</th>\n",
       "      <th>dropout</th>\n",
       "      <th>epochs</th>\n",
       "      <th>neurons</th>\n",
       "    </tr>\n",
       "  </thead>\n",
       "  <tbody>\n",
       "    <tr>\n",
       "      <th>64</th>\n",
       "      <td>50</td>\n",
       "      <td>0.42836</td>\n",
       "      <td>0.826984</td>\n",
       "      <td>0.827849</td>\n",
       "      <td>0.464851</td>\n",
       "      <td>0.803648</td>\n",
       "      <td>0.804514</td>\n",
       "      <td>elu</td>\n",
       "      <td>64</td>\n",
       "      <td>20</td>\n",
       "      <td>0.1</td>\n",
       "      <td>50</td>\n",
       "      <td>64</td>\n",
       "    </tr>\n",
       "  </tbody>\n",
       "</table>\n",
       "</div>"
      ],
      "text/plain": [
       "    round_epochs     loss       acc   f1score  val_loss   val_acc  \\\n",
       "64            50  0.42836  0.826984  0.827849  0.464851  0.803648   \n",
       "\n",
       "    val_f1score activation  batch_size  dense  dropout  epochs  neurons  \n",
       "64     0.804514        elu          64     20      0.1      50       64  "
      ]
     },
     "execution_count": 12,
     "metadata": {},
     "output_type": "execute_result"
    }
   ],
   "source": [
    "df[df['val_loss'] == df['val_loss'].min()]"
   ]
  }
 ],
 "metadata": {
  "kernelspec": {
   "display_name": "Python [conda env:FakeNews] *",
   "language": "python",
   "name": "conda-env-FakeNews-py"
  },
  "language_info": {
   "codemirror_mode": {
    "name": "ipython",
    "version": 3
   },
   "file_extension": ".py",
   "mimetype": "text/x-python",
   "name": "python",
   "nbconvert_exporter": "python",
   "pygments_lexer": "ipython3",
   "version": "3.7.5"
  }
 },
 "nbformat": 4,
 "nbformat_minor": 2
}

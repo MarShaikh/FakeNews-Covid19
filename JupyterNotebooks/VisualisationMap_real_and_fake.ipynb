{
 "cells": [
  {
   "cell_type": "code",
   "execution_count": 39,
   "metadata": {},
   "outputs": [],
   "source": [
    "import plotly.express as px\n",
    "import pandas as pd\n",
    "\n",
    "df_fake = pd.read_csv('../DataSets/COVID-19_Dataset_Fake.csv', engine='python')"
   ]
  },
  {
   "cell_type": "code",
   "execution_count": 40,
   "metadata": {},
   "outputs": [
    {
     "output_type": "execute_result",
     "data": {
      "text/plain": "Index(['Srno', 'Language', 'Desc', 'web-scraper-order',\n       'web-scraper-start-url', 'titlelink', 'titlelink-href', 'desc',\n       'article-link', 'article-link-href', 'DomainName', 'website-name',\n       'date', 'country', 'is_fake', 'main_title'],\n      dtype='object')"
     },
     "metadata": {},
     "execution_count": 40
    }
   ],
   "source": [
    "df_fake.columns"
   ]
  },
  {
   "cell_type": "code",
   "execution_count": 42,
   "metadata": {},
   "outputs": [
    {
     "output_type": "execute_result",
     "data": {
      "text/plain": "Unnamed: 0               1460\nweb-scraper-order        1460\nweb-scraper-start-url    1460\nmainlink                 1460\nmainlink-href            1460\ntitle                    1457\ntext                     1242\ndate                     1455\ntype                      339\nauthor                    315\ndtype: int64"
     },
     "metadata": {},
     "execution_count": 42
    }
   ],
   "source": [
    "df.count()"
   ]
  },
  {
   "cell_type": "code",
   "execution_count": 4,
   "metadata": {},
   "outputs": [
    {
     "output_type": "execute_result",
     "data": {
      "text/plain": "   Srno Language                                               Desc  \\\n0     0       pt  Circulating on social networks a video that sh...   \n1     2       en  Internet sensation and the world�s cutest baby...   \n2     5       en  Indeed, as the article pointed out, the World ...   \n3     6       en  A video has been viewed hundreds of thousands ...   \n4     7       en  A Facebook post claiming that the National Tre...   \n5     8       es  Moves on Facebook and Twitter a video showing ...   \n6    10       en  A Facebook user claims Melinda Gates divorced ...   \n7    13       en  Conspiracies about mainstream news media are f...   \n8    17       es  The news of Reason, whose title is \"snip in It...   \n9    18       en  The video�has been viewed more than 54,000 tim...   \n\n  web-scraper-order                              web-scraper-start-url  \\\n0   1588079462-6624  https://www.poynter.org/ifcn-covid-19-misinfor...   \n1   1588082282-6968  https://www.poynter.org/ifcn-covid-19-misinfor...   \n2   1588079631-6656  https://www.poynter.org/ifcn-covid-19-misinfor...   \n3   1588079696-6668  https://www.poynter.org/ifcn-covid-19-misinfor...   \n4   1588080417-6743  https://www.poynter.org/ifcn-covid-19-misinfor...   \n5   1588080261-6735  https://www.poynter.org/ifcn-covid-19-misinfor...   \n6   1588079431-6620  https://www.poynter.org/ifcn-covid-19-misinfor...   \n7   1588082449-7005  https://www.poynter.org/ifcn-covid-19-misinfor...   \n8   1588081123-6772  https://www.poynter.org/ifcn-covid-19-misinfor...   \n9   1588079253-6586  https://www.poynter.org/ifcn-covid-19-misinfor...   \n\n   titlelink                                     titlelink-href  \\\n0  Read More  https://www.poynter.org/?ifcn_misinformation=a...   \n1  Read More  https://www.poynter.org/?ifcn_misinformation=i...   \n2  Read More  https://www.poynter.org/?ifcn_misinformation=t...   \n3  Read More  https://www.poynter.org/?ifcn_misinformation=a...   \n4  Read More  https://www.poynter.org/?ifcn_misinformation=t...   \n5  Read More  https://www.poynter.org/?ifcn_misinformation=h...   \n6  Read More  https://www.poynter.org/?ifcn_misinformation=a...   \n7  Read More  https://www.poynter.org/?ifcn_misinformation=n...   \n8  Read More  https://www.poynter.org/?ifcn_misinformation=i...   \n9  Read More  https://www.poynter.org/?ifcn_misinformation=a...   \n\n                                                desc  \\\n0  Explanation: There is no evidence that the vid...   \n1  Explanation: Anahita's mother has denied the r...   \n2  Explanation: In the same video by Dr. Rissland...   \n3  Explanation: The video actually shows Trump at...   \n4  Explanation: The post urges residents to confi...   \n5  Explanation: The images with police violence a...   \n6  Explanation: During an interview with Poppy Ha...   \n7  Explanation: A Milwaukee Journal Sentinel phot...   \n8  Explanation: The two web pages echo a news sto...   \n9  Explanation: The claim is misleading; the raid...   \n\n                              article-link  \\\n0       Read the Full Article (Observador)   \n1      Read the Full Article (Newschecker)   \n2      Read the Full Article (LeadStories)   \n3              Read the Full Article (AFP)   \n4        Read the Full Article (PesaCheck)   \n5  Read the Full Article (Animal Político)   \n6           Read the Full Article (Dubawa)   \n7       Read the Full Article (PolitiFact)   \n8       Read the Full Article (Maldita.es)   \n9              Read the Full Article (AFP)   \n\n                                   article-link-href          DomainName  \\\n0  https://observador.pt/factchecks/fact-check-um...       observador.pt   \n1  https://www.newschecker.in/article/news-detail...      newschecker.in   \n2  https://leadstories.com/hoax-alert/2020/04/fac...     leadstories.com   \n3  https://factcheck.afp.com/video-shows-us-presi...   factcheck.afp.com   \n4  https://pesacheck.org/false-treasury-is-not-se...       pesacheck.org   \n5  https://www.animalpolitico.com/elsabueso/hungr...  animalpolitico.com   \n6  https://dubawa.org/trained-shot-against-the-ga...          dubawa.org   \n7  https://www.politifact.com/factchecks/2020/apr...      politifact.com   \n8  https://maldita.es/malditobulo/2020/04/10/ital...          maldita.es   \n9  https://factcheck.afp.com/video-shows-fbi-agen...   factcheck.afp.com   \n\n                       website-name        date                  country  \\\n0       Fact-checked by: Observador  08-04-2020                 Portugal   \n1      Fact-checked by: Newschecker  17-04-2020                    India   \n2      Fact-checked by: LeadStories  09-04-2020   United States, Germany   \n3              Fact-checked by: AFP  09-04-2020                Indonesia   \n4        Fact-checked by: PesaCheck  11-04-2020                    Kenya   \n5  Fact-checked by: Animal Político  11-04-2020                   Mexico   \n6           Fact-checked by: Dubawa  08-04-2020                  Nigeria   \n7       Fact-checked by: PolitiFact  19-04-2020            United States   \n8       Fact-checked by: Maldita.es  12-04-2020             Spain, Italy   \n9              Fact-checked by: AFP  07-04-2020            United States   \n\n          is_fake                                         main_title  \n0           FALSE   A video shows a fortune teller predicting the...  \n1           FALSE   Internet sensation and the world’s cutest bab...  \n2           FALSE   Top German virologist Jürgen Rissland recomme...  \n3           FALSE   A video has been viewed hundreds of thousands...  \n4           FALSE   Treasury is depositing Kshs 45, 000 to the mo...  \n5           FALSE   Hunagrian authorities are capturing men 50 or...  \n6           FALSE   A Facebook user claims Melinda Gates divorced...  \n7  Pants on Fire!   News photo from stay-at-home protest was doct...  \n8           FALSE   Italy has reduced the number of politicians d...  \n9      misleading   A video has been viewed tens of thousands of ...  ",
      "text/html": "<div>\n<style scoped>\n    .dataframe tbody tr th:only-of-type {\n        vertical-align: middle;\n    }\n\n    .dataframe tbody tr th {\n        vertical-align: top;\n    }\n\n    .dataframe thead th {\n        text-align: right;\n    }\n</style>\n<table border=\"1\" class=\"dataframe\">\n  <thead>\n    <tr style=\"text-align: right;\">\n      <th></th>\n      <th>Srno</th>\n      <th>Language</th>\n      <th>Desc</th>\n      <th>web-scraper-order</th>\n      <th>web-scraper-start-url</th>\n      <th>titlelink</th>\n      <th>titlelink-href</th>\n      <th>desc</th>\n      <th>article-link</th>\n      <th>article-link-href</th>\n      <th>DomainName</th>\n      <th>website-name</th>\n      <th>date</th>\n      <th>country</th>\n      <th>is_fake</th>\n      <th>main_title</th>\n    </tr>\n  </thead>\n  <tbody>\n    <tr>\n      <th>0</th>\n      <td>0</td>\n      <td>pt</td>\n      <td>Circulating on social networks a video that sh...</td>\n      <td>1588079462-6624</td>\n      <td>https://www.poynter.org/ifcn-covid-19-misinfor...</td>\n      <td>Read More</td>\n      <td>https://www.poynter.org/?ifcn_misinformation=a...</td>\n      <td>Explanation: There is no evidence that the vid...</td>\n      <td>Read the Full Article (Observador)</td>\n      <td>https://observador.pt/factchecks/fact-check-um...</td>\n      <td>observador.pt</td>\n      <td>Fact-checked by: Observador</td>\n      <td>08-04-2020</td>\n      <td>Portugal</td>\n      <td>FALSE</td>\n      <td>A video shows a fortune teller predicting the...</td>\n    </tr>\n    <tr>\n      <th>1</th>\n      <td>2</td>\n      <td>en</td>\n      <td>Internet sensation and the world�s cutest baby...</td>\n      <td>1588082282-6968</td>\n      <td>https://www.poynter.org/ifcn-covid-19-misinfor...</td>\n      <td>Read More</td>\n      <td>https://www.poynter.org/?ifcn_misinformation=i...</td>\n      <td>Explanation: Anahita's mother has denied the r...</td>\n      <td>Read the Full Article (Newschecker)</td>\n      <td>https://www.newschecker.in/article/news-detail...</td>\n      <td>newschecker.in</td>\n      <td>Fact-checked by: Newschecker</td>\n      <td>17-04-2020</td>\n      <td>India</td>\n      <td>FALSE</td>\n      <td>Internet sensation and the world’s cutest bab...</td>\n    </tr>\n    <tr>\n      <th>2</th>\n      <td>5</td>\n      <td>en</td>\n      <td>Indeed, as the article pointed out, the World ...</td>\n      <td>1588079631-6656</td>\n      <td>https://www.poynter.org/ifcn-covid-19-misinfor...</td>\n      <td>Read More</td>\n      <td>https://www.poynter.org/?ifcn_misinformation=t...</td>\n      <td>Explanation: In the same video by Dr. Rissland...</td>\n      <td>Read the Full Article (LeadStories)</td>\n      <td>https://leadstories.com/hoax-alert/2020/04/fac...</td>\n      <td>leadstories.com</td>\n      <td>Fact-checked by: LeadStories</td>\n      <td>09-04-2020</td>\n      <td>United States, Germany</td>\n      <td>FALSE</td>\n      <td>Top German virologist Jürgen Rissland recomme...</td>\n    </tr>\n    <tr>\n      <th>3</th>\n      <td>6</td>\n      <td>en</td>\n      <td>A video has been viewed hundreds of thousands ...</td>\n      <td>1588079696-6668</td>\n      <td>https://www.poynter.org/ifcn-covid-19-misinfor...</td>\n      <td>Read More</td>\n      <td>https://www.poynter.org/?ifcn_misinformation=a...</td>\n      <td>Explanation: The video actually shows Trump at...</td>\n      <td>Read the Full Article (AFP)</td>\n      <td>https://factcheck.afp.com/video-shows-us-presi...</td>\n      <td>factcheck.afp.com</td>\n      <td>Fact-checked by: AFP</td>\n      <td>09-04-2020</td>\n      <td>Indonesia</td>\n      <td>FALSE</td>\n      <td>A video has been viewed hundreds of thousands...</td>\n    </tr>\n    <tr>\n      <th>4</th>\n      <td>7</td>\n      <td>en</td>\n      <td>A Facebook post claiming that the National Tre...</td>\n      <td>1588080417-6743</td>\n      <td>https://www.poynter.org/ifcn-covid-19-misinfor...</td>\n      <td>Read More</td>\n      <td>https://www.poynter.org/?ifcn_misinformation=t...</td>\n      <td>Explanation: The post urges residents to confi...</td>\n      <td>Read the Full Article (PesaCheck)</td>\n      <td>https://pesacheck.org/false-treasury-is-not-se...</td>\n      <td>pesacheck.org</td>\n      <td>Fact-checked by: PesaCheck</td>\n      <td>11-04-2020</td>\n      <td>Kenya</td>\n      <td>FALSE</td>\n      <td>Treasury is depositing Kshs 45, 000 to the mo...</td>\n    </tr>\n    <tr>\n      <th>5</th>\n      <td>8</td>\n      <td>es</td>\n      <td>Moves on Facebook and Twitter a video showing ...</td>\n      <td>1588080261-6735</td>\n      <td>https://www.poynter.org/ifcn-covid-19-misinfor...</td>\n      <td>Read More</td>\n      <td>https://www.poynter.org/?ifcn_misinformation=h...</td>\n      <td>Explanation: The images with police violence a...</td>\n      <td>Read the Full Article (Animal Político)</td>\n      <td>https://www.animalpolitico.com/elsabueso/hungr...</td>\n      <td>animalpolitico.com</td>\n      <td>Fact-checked by: Animal Político</td>\n      <td>11-04-2020</td>\n      <td>Mexico</td>\n      <td>FALSE</td>\n      <td>Hunagrian authorities are capturing men 50 or...</td>\n    </tr>\n    <tr>\n      <th>6</th>\n      <td>10</td>\n      <td>en</td>\n      <td>A Facebook user claims Melinda Gates divorced ...</td>\n      <td>1588079431-6620</td>\n      <td>https://www.poynter.org/ifcn-covid-19-misinfor...</td>\n      <td>Read More</td>\n      <td>https://www.poynter.org/?ifcn_misinformation=a...</td>\n      <td>Explanation: During an interview with Poppy Ha...</td>\n      <td>Read the Full Article (Dubawa)</td>\n      <td>https://dubawa.org/trained-shot-against-the-ga...</td>\n      <td>dubawa.org</td>\n      <td>Fact-checked by: Dubawa</td>\n      <td>08-04-2020</td>\n      <td>Nigeria</td>\n      <td>FALSE</td>\n      <td>A Facebook user claims Melinda Gates divorced...</td>\n    </tr>\n    <tr>\n      <th>7</th>\n      <td>13</td>\n      <td>en</td>\n      <td>Conspiracies about mainstream news media are f...</td>\n      <td>1588082449-7005</td>\n      <td>https://www.poynter.org/ifcn-covid-19-misinfor...</td>\n      <td>Read More</td>\n      <td>https://www.poynter.org/?ifcn_misinformation=n...</td>\n      <td>Explanation: A Milwaukee Journal Sentinel phot...</td>\n      <td>Read the Full Article (PolitiFact)</td>\n      <td>https://www.politifact.com/factchecks/2020/apr...</td>\n      <td>politifact.com</td>\n      <td>Fact-checked by: PolitiFact</td>\n      <td>19-04-2020</td>\n      <td>United States</td>\n      <td>Pants on Fire!</td>\n      <td>News photo from stay-at-home protest was doct...</td>\n    </tr>\n    <tr>\n      <th>8</th>\n      <td>17</td>\n      <td>es</td>\n      <td>The news of Reason, whose title is \"snip in It...</td>\n      <td>1588081123-6772</td>\n      <td>https://www.poynter.org/ifcn-covid-19-misinfor...</td>\n      <td>Read More</td>\n      <td>https://www.poynter.org/?ifcn_misinformation=i...</td>\n      <td>Explanation: The two web pages echo a news sto...</td>\n      <td>Read the Full Article (Maldita.es)</td>\n      <td>https://maldita.es/malditobulo/2020/04/10/ital...</td>\n      <td>maldita.es</td>\n      <td>Fact-checked by: Maldita.es</td>\n      <td>12-04-2020</td>\n      <td>Spain, Italy</td>\n      <td>FALSE</td>\n      <td>Italy has reduced the number of politicians d...</td>\n    </tr>\n    <tr>\n      <th>9</th>\n      <td>18</td>\n      <td>en</td>\n      <td>The video�has been viewed more than 54,000 tim...</td>\n      <td>1588079253-6586</td>\n      <td>https://www.poynter.org/ifcn-covid-19-misinfor...</td>\n      <td>Read More</td>\n      <td>https://www.poynter.org/?ifcn_misinformation=a...</td>\n      <td>Explanation: The claim is misleading; the raid...</td>\n      <td>Read the Full Article (AFP)</td>\n      <td>https://factcheck.afp.com/video-shows-fbi-agen...</td>\n      <td>factcheck.afp.com</td>\n      <td>Fact-checked by: AFP</td>\n      <td>07-04-2020</td>\n      <td>United States</td>\n      <td>misleading</td>\n      <td>A video has been viewed tens of thousands of ...</td>\n    </tr>\n  </tbody>\n</table>\n</div>"
     },
     "metadata": {},
     "execution_count": 4
    }
   ],
   "source": [
    "df.head(10)"
   ]
  },
  {
   "cell_type": "code",
   "execution_count": 7,
   "metadata": {},
   "outputs": [
    {
     "output_type": "execute_result",
     "data": {
      "text/plain": "1842"
     },
     "metadata": {},
     "execution_count": 7
    }
   ],
   "source": [
    "len(df)"
   ]
  },
  {
   "cell_type": "code",
   "execution_count": 18,
   "metadata": {},
   "outputs": [
    {
     "output_type": "error",
     "ename": "AttributeError",
     "evalue": "'DataFrameGroupBy' object has no attribute 'unique'",
     "traceback": [
      "\u001b[0;31m---------------------------------------------------------------------------\u001b[0m",
      "\u001b[0;31mAttributeError\u001b[0m                            Traceback (most recent call last)",
      "\u001b[0;32m<ipython-input-18-68b95968fa29>\u001b[0m in \u001b[0;36m<module>\u001b[0;34m\u001b[0m\n\u001b[0;32m----> 1\u001b[0;31m \u001b[0;34m(\u001b[0m\u001b[0mdf\u001b[0m\u001b[0;34m.\u001b[0m\u001b[0mgroupby\u001b[0m\u001b[0;34m(\u001b[0m\u001b[0;34m'is_fake'\u001b[0m\u001b[0;34m)\u001b[0m\u001b[0;34m)\u001b[0m\u001b[0;34m.\u001b[0m\u001b[0munique\u001b[0m\u001b[0;34m(\u001b[0m\u001b[0;34m)\u001b[0m\u001b[0;34m\u001b[0m\u001b[0;34m\u001b[0m\u001b[0m\n\u001b[0m",
      "\u001b[0;32m~/anaconda3/envs/FakeNews/lib/python3.7/site-packages/pandas/core/groupby/groupby.py\u001b[0m in \u001b[0;36m__getattr__\u001b[0;34m(self, attr)\u001b[0m\n\u001b[1;32m    564\u001b[0m \u001b[0;34m\u001b[0m\u001b[0m\n\u001b[1;32m    565\u001b[0m         raise AttributeError(\n\u001b[0;32m--> 566\u001b[0;31m             \u001b[0;34m\"%r object has no attribute %r\"\u001b[0m \u001b[0;34m%\u001b[0m \u001b[0;34m(\u001b[0m\u001b[0mtype\u001b[0m\u001b[0;34m(\u001b[0m\u001b[0mself\u001b[0m\u001b[0;34m)\u001b[0m\u001b[0;34m.\u001b[0m\u001b[0m__name__\u001b[0m\u001b[0;34m,\u001b[0m \u001b[0mattr\u001b[0m\u001b[0;34m)\u001b[0m\u001b[0;34m\u001b[0m\u001b[0;34m\u001b[0m\u001b[0m\n\u001b[0m\u001b[1;32m    567\u001b[0m         )\n\u001b[1;32m    568\u001b[0m \u001b[0;34m\u001b[0m\u001b[0m\n",
      "\u001b[0;31mAttributeError\u001b[0m: 'DataFrameGroupBy' object has no attribute 'unique'"
     ]
    }
   ],
   "source": [
    "(df.groupby('is_fake')).unique()"
   ]
  }
 ],
 "metadata": {
  "language_info": {
   "codemirror_mode": {
    "name": "ipython",
    "version": 3
   },
   "file_extension": ".py",
   "mimetype": "text/x-python",
   "name": "python",
   "nbconvert_exporter": "python",
   "pygments_lexer": "ipython3",
   "version": "3.7.5-final"
  },
  "orig_nbformat": 2,
  "kernelspec": {
   "name": "python3",
   "display_name": "Python 3"
  }
 },
 "nbformat": 4,
 "nbformat_minor": 2
}
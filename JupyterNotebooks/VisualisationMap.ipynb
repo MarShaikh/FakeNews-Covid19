{
 "cells": [
  {
   "cell_type": "code",
   "execution_count": 2,
   "metadata": {},
   "outputs": [],
   "source": [
    "import plotly.express as px\n",
    "import pandas as pd\n",
    "\n",
    "\n",
    "df = pd.read_csv(\"../DataSets/COVID-19_Dataset_Fake.csv\", engine=\"python\")"
   ]
  },
  {
   "cell_type": "code",
   "execution_count": 3,
   "metadata": {},
   "outputs": [
    {
     "output_type": "execute_result",
     "data": {
      "text/plain": "Index(['Srno', 'Language', 'Desc', 'web-scraper-order',\n       'web-scraper-start-url', 'titlelink', 'titlelink-href', 'desc',\n       'article-link', 'article-link-href', 'DomainName', 'website-name',\n       'date', 'country', 'is_fake', 'main_title'],\n      dtype='object')"
     },
     "metadata": {},
     "execution_count": 3
    }
   ],
   "source": [
    "df.columns"
   ]
  },
  {
   "cell_type": "code",
   "execution_count": 4,
   "metadata": {},
   "outputs": [
    {
     "output_type": "execute_result",
     "data": {
      "text/plain": "   Srno Language                                               Desc  \\\n0     0       pt  Circulating on social networks a video that sh...   \n1     2       en  Internet sensation and the world�s cutest baby...   \n2     5       en  Indeed, as the article pointed out, the World ...   \n3     6       en  A video has been viewed hundreds of thousands ...   \n4     7       en  A Facebook post claiming that the National Tre...   \n\n  web-scraper-order                              web-scraper-start-url  \\\n0   1588079462-6624  https://www.poynter.org/ifcn-covid-19-misinfor...   \n1   1588082282-6968  https://www.poynter.org/ifcn-covid-19-misinfor...   \n2   1588079631-6656  https://www.poynter.org/ifcn-covid-19-misinfor...   \n3   1588079696-6668  https://www.poynter.org/ifcn-covid-19-misinfor...   \n4   1588080417-6743  https://www.poynter.org/ifcn-covid-19-misinfor...   \n\n   titlelink                                     titlelink-href  \\\n0  Read More  https://www.poynter.org/?ifcn_misinformation=a...   \n1  Read More  https://www.poynter.org/?ifcn_misinformation=i...   \n2  Read More  https://www.poynter.org/?ifcn_misinformation=t...   \n3  Read More  https://www.poynter.org/?ifcn_misinformation=a...   \n4  Read More  https://www.poynter.org/?ifcn_misinformation=t...   \n\n                                                desc  \\\n0  Explanation: There is no evidence that the vid...   \n1  Explanation: Anahita's mother has denied the r...   \n2  Explanation: In the same video by Dr. Rissland...   \n3  Explanation: The video actually shows Trump at...   \n4  Explanation: The post urges residents to confi...   \n\n                          article-link  \\\n0   Read the Full Article (Observador)   \n1  Read the Full Article (Newschecker)   \n2  Read the Full Article (LeadStories)   \n3          Read the Full Article (AFP)   \n4    Read the Full Article (PesaCheck)   \n\n                                   article-link-href         DomainName  \\\n0  https://observador.pt/factchecks/fact-check-um...      observador.pt   \n1  https://www.newschecker.in/article/news-detail...     newschecker.in   \n2  https://leadstories.com/hoax-alert/2020/04/fac...    leadstories.com   \n3  https://factcheck.afp.com/video-shows-us-presi...  factcheck.afp.com   \n4  https://pesacheck.org/false-treasury-is-not-se...      pesacheck.org   \n\n                   website-name        date                  country is_fake  \\\n0   Fact-checked by: Observador  08-04-2020                 Portugal   FALSE   \n1  Fact-checked by: Newschecker  17-04-2020                    India   FALSE   \n2  Fact-checked by: LeadStories  09-04-2020   United States, Germany   FALSE   \n3          Fact-checked by: AFP  09-04-2020                Indonesia   FALSE   \n4    Fact-checked by: PesaCheck  11-04-2020                    Kenya   FALSE   \n\n                                          main_title  \n0   A video shows a fortune teller predicting the...  \n1   Internet sensation and the world’s cutest bab...  \n2   Top German virologist Jürgen Rissland recomme...  \n3   A video has been viewed hundreds of thousands...  \n4   Treasury is depositing Kshs 45, 000 to the mo...  ",
      "text/html": "<div>\n<style scoped>\n    .dataframe tbody tr th:only-of-type {\n        vertical-align: middle;\n    }\n\n    .dataframe tbody tr th {\n        vertical-align: top;\n    }\n\n    .dataframe thead th {\n        text-align: right;\n    }\n</style>\n<table border=\"1\" class=\"dataframe\">\n  <thead>\n    <tr style=\"text-align: right;\">\n      <th></th>\n      <th>Srno</th>\n      <th>Language</th>\n      <th>Desc</th>\n      <th>web-scraper-order</th>\n      <th>web-scraper-start-url</th>\n      <th>titlelink</th>\n      <th>titlelink-href</th>\n      <th>desc</th>\n      <th>article-link</th>\n      <th>article-link-href</th>\n      <th>DomainName</th>\n      <th>website-name</th>\n      <th>date</th>\n      <th>country</th>\n      <th>is_fake</th>\n      <th>main_title</th>\n    </tr>\n  </thead>\n  <tbody>\n    <tr>\n      <th>0</th>\n      <td>0</td>\n      <td>pt</td>\n      <td>Circulating on social networks a video that sh...</td>\n      <td>1588079462-6624</td>\n      <td>https://www.poynter.org/ifcn-covid-19-misinfor...</td>\n      <td>Read More</td>\n      <td>https://www.poynter.org/?ifcn_misinformation=a...</td>\n      <td>Explanation: There is no evidence that the vid...</td>\n      <td>Read the Full Article (Observador)</td>\n      <td>https://observador.pt/factchecks/fact-check-um...</td>\n      <td>observador.pt</td>\n      <td>Fact-checked by: Observador</td>\n      <td>08-04-2020</td>\n      <td>Portugal</td>\n      <td>FALSE</td>\n      <td>A video shows a fortune teller predicting the...</td>\n    </tr>\n    <tr>\n      <th>1</th>\n      <td>2</td>\n      <td>en</td>\n      <td>Internet sensation and the world�s cutest baby...</td>\n      <td>1588082282-6968</td>\n      <td>https://www.poynter.org/ifcn-covid-19-misinfor...</td>\n      <td>Read More</td>\n      <td>https://www.poynter.org/?ifcn_misinformation=i...</td>\n      <td>Explanation: Anahita's mother has denied the r...</td>\n      <td>Read the Full Article (Newschecker)</td>\n      <td>https://www.newschecker.in/article/news-detail...</td>\n      <td>newschecker.in</td>\n      <td>Fact-checked by: Newschecker</td>\n      <td>17-04-2020</td>\n      <td>India</td>\n      <td>FALSE</td>\n      <td>Internet sensation and the world’s cutest bab...</td>\n    </tr>\n    <tr>\n      <th>2</th>\n      <td>5</td>\n      <td>en</td>\n      <td>Indeed, as the article pointed out, the World ...</td>\n      <td>1588079631-6656</td>\n      <td>https://www.poynter.org/ifcn-covid-19-misinfor...</td>\n      <td>Read More</td>\n      <td>https://www.poynter.org/?ifcn_misinformation=t...</td>\n      <td>Explanation: In the same video by Dr. Rissland...</td>\n      <td>Read the Full Article (LeadStories)</td>\n      <td>https://leadstories.com/hoax-alert/2020/04/fac...</td>\n      <td>leadstories.com</td>\n      <td>Fact-checked by: LeadStories</td>\n      <td>09-04-2020</td>\n      <td>United States, Germany</td>\n      <td>FALSE</td>\n      <td>Top German virologist Jürgen Rissland recomme...</td>\n    </tr>\n    <tr>\n      <th>3</th>\n      <td>6</td>\n      <td>en</td>\n      <td>A video has been viewed hundreds of thousands ...</td>\n      <td>1588079696-6668</td>\n      <td>https://www.poynter.org/ifcn-covid-19-misinfor...</td>\n      <td>Read More</td>\n      <td>https://www.poynter.org/?ifcn_misinformation=a...</td>\n      <td>Explanation: The video actually shows Trump at...</td>\n      <td>Read the Full Article (AFP)</td>\n      <td>https://factcheck.afp.com/video-shows-us-presi...</td>\n      <td>factcheck.afp.com</td>\n      <td>Fact-checked by: AFP</td>\n      <td>09-04-2020</td>\n      <td>Indonesia</td>\n      <td>FALSE</td>\n      <td>A video has been viewed hundreds of thousands...</td>\n    </tr>\n    <tr>\n      <th>4</th>\n      <td>7</td>\n      <td>en</td>\n      <td>A Facebook post claiming that the National Tre...</td>\n      <td>1588080417-6743</td>\n      <td>https://www.poynter.org/ifcn-covid-19-misinfor...</td>\n      <td>Read More</td>\n      <td>https://www.poynter.org/?ifcn_misinformation=t...</td>\n      <td>Explanation: The post urges residents to confi...</td>\n      <td>Read the Full Article (PesaCheck)</td>\n      <td>https://pesacheck.org/false-treasury-is-not-se...</td>\n      <td>pesacheck.org</td>\n      <td>Fact-checked by: PesaCheck</td>\n      <td>11-04-2020</td>\n      <td>Kenya</td>\n      <td>FALSE</td>\n      <td>Treasury is depositing Kshs 45, 000 to the mo...</td>\n    </tr>\n  </tbody>\n</table>\n</div>"
     },
     "metadata": {},
     "execution_count": 4
    }
   ],
   "source": [
    "df.head(5)"
   ]
  },
  {
   "cell_type": "code",
   "execution_count": 5,
   "metadata": {},
   "outputs": [
    {
     "output_type": "execute_result",
     "data": {
      "text/plain": "array(['FALSE', 'Pants on Fire!', 'misleading', 'Explanatory',\n       'Partly false', 'Mostly False', 'PARTLY FALSE', 'MISLEADING',\n       'Misleading', 'No Evidence', 'Mainly false', 'Mostly false',\n       'No evidence', 'Partially false', 'Misleading/False',\n       'MOSTLY TRUE', 'Partly true', 'false and misleading', 'HALF TRUE',\n       'Mostly True', \"(Org. doesn't apply rating)\", 'Fake', 'Correct',\n       'Conspiracy theory', 'Unlikely', 'Partially true', 'Not true',\n       'Half True', 'Suspicions', 'MOSTLY FALSE', 'PARTLY TRUE'],\n      dtype=object)"
     },
     "metadata": {},
     "execution_count": 5
    }
   ],
   "source": [
    "df['is_fake'].unique()"
   ]
  },
  {
   "cell_type": "code",
   "execution_count": 7,
   "metadata": {},
   "outputs": [
    {
     "output_type": "execute_result",
     "data": {
      "text/plain": "Srno                     1842\nLanguage                 1842\nDesc                     1842\nweb-scraper-order        1842\nweb-scraper-start-url    1842\ntitlelink                1842\ntitlelink-href           1842\ndesc                     1842\narticle-link             1842\narticle-link-href        1842\nDomainName               1842\nwebsite-name             1842\ndate                     1842\ncountry                  1842\nis_fake                  1842\nmain_title               1842\ndtype: int64"
     },
     "metadata": {},
     "execution_count": 7
    }
   ],
   "source": [
    "#so no NaN values. \n",
    "df.count()"
   ]
  },
  {
   "cell_type": "code",
   "execution_count": null,
   "metadata": {},
   "outputs": [],
   "source": [
    "#As you can see from the above cell, fake news is spread across a scale\n",
    "#however for the purpose of this project; our fake news classifier is a two category classifier. Hence we will simply change the different scales to one specific value:- 'FALSE'\n",
    "\n"
   ]
  },
  {
   "cell_type": "code",
   "execution_count": 33,
   "metadata": {},
   "outputs": [
    {
     "output_type": "display_data",
     "data": {
      "application/vnd.plotly.v1+json": {
       "config": {
        "plotlyServerURL": "https://plot.ly"
       },
       "data": [
        {
         "coloraxis": "coloraxis",
         "geo": "geo",
         "hoverlabel": {
          "namelength": 0
         },
         "hovertemplate": "<b>%{hovertext}</b><br><br>country=%{location}<br>FALSE=%{z}",
         "hovertext": [
          " Africa",
          " Algeria",
          " Argentina",
          " Argentina",
          " Argentina",
          " Argentina, Chile, Colombia, France",
          " Argentina, China, United States, Israel",
          " Argentina, India, United States, Spain",
          " Argentina, Spain, Colombia",
          " Argentina, Spain, Venezuela , Bolivia",
          " Asia",
          " Australia",
          " Australia",
          " Australia",
          " Australia, India, South Africa, Ivory Coast",
          " Australia, Middle East",
          " Australia, Pakistan, South Africa",
          " Australia, Russia",
          " Australia, Spain",
          " Australia,Spain",
          " Belgium",
          " Belgium",
          " Bolivia",
          " Bolivia",
          " Bolivia, Venezuela, Cuba",
          " Bosnia and Herzegovina",
          " Bosnia and Herzegovina",
          " Bosnia and Herzegovina, Serbia",
          " Bosnia and Herzegovina, Serbia",
          " Bosnia and Herzegovina, Serbia, Croatia, Montenegro",
          " Bosnia and Herzegovina, Serbia, Montenegro",
          " Brazil",
          " Brazil",
          " Brazil",
          " Burkina Faso, West Africa",
          " Canada",
          " Canada",
          " Canada",
          " Canada",
          " Canada, France",
          " Canada, United States, United Kingdom",
          " China",
          " China",
          " Colombia",
          " Colombia",
          " Colombia",
          " Colombia",
          " Colombia, Ecuador, Italy",
          " Colombia, India, Nigeria, Philippines",
          " Colombia, United States",
          " Colombia, Venezuela",
          " Costa Rica",
          " Croatia",
          " Croatia",
          " Cuba",
          " DR Congo",
          " DR Congo, Mali, Cameroon",
          " Denmark",
          " Denmark",
          " Denmark",
          " Denmark",
          " East Africa, Africa, France",
          " Ecuador",
          " Ethiopia",
          " Europe, Australia",
          " Finland",
          " France",
          " France",
          " France",
          " France",
          " France",
          " France",
          " France",
          " France",
          " France",
          " France, Algeria",
          " France, Brazil, Italy",
          " France, China",
          " France, China",
          " France, Germany",
          " France, Hungary, Azerbaijan",
          " France, Iceland",
          " France, Israel",
          " France, Italy",
          " France, Ivory Coast",
          " France, Morocco",
          " France, Portugal, Russia",
          " France, United States",
          " France, United States",
          " France, United States",
          " France, West Africa",
          " Gabon",
          " Georgia",
          " Georgia",
          " Georgia, Russia",
          " Germany",
          " Germany",
          " Germany",
          " Germany",
          " Germany",
          " Germany",
          " Germany",
          " Ghana",
          " Ghana",
          " Greece",
          " Greece",
          " Guatemala",
          " Guatemala",
          " Guatemala",
          " Hong Kong",
          " Hong Kong",
          " Iceland, France, Spain",
          " India",
          " India",
          " India",
          " India",
          " India",
          " India",
          " India",
          " India",
          " India",
          " India",
          " India",
          " India, Afghanistan",
          " India, Ivory Coast",
          " India, Mexico",
          " India, Saudi Arabia, Philippines",
          " India, Sri Lanka",
          " India, Sri Lanka",
          " Indonesia",
          " Indonesia",
          " Indonesia",
          " Indonesia, Algeria",
          " Iran",
          " Iran",
          " Iran",
          " Ireland",
          " Ireland",
          " Ireland",
          " Ireland, United Kingdom",
          " Israel",
          " Italy",
          " Italy",
          " Italy",
          " Italy, China",
          " Italy, United States",
          " Italy, Venezuela, Colombia",
          " Ivory Coast",
          " Japan",
          " Japan",
          " Japan",
          " Japan",
          " Jordan",
          " Kazakhstan",
          " Kazakhstan",
          " Kazakhstan, Kyrgyzstan",
          " Kazakhstan, Russia",
          " Kazakhstan, Russia",
          " Kazakhstan, Russia, Afghanistan",
          " Kazakhstan, Russia, Kyrgyzstan, Uzbekistan",
          " Kazakhstan, Russia, Ukraine",
          " Kazakhstan, Russia, Ukraine",
          " Kenya",
          " Kenya",
          " Kenya, Cameroon",
          " Kenya, East Africa",
          " Kenya, Gambia",
          " Kenya, Libya",
          " Kenya, South Africa",
          " Kenya, South Sudan",
          " Kenya, Uganda",
          " Kenya, United States",
          " Latvia",
          " Latvia, Ukraine, Lithuania",
          " Lithuania",
          " Lithuania",
          " Lithuania",
          " Lithuania",
          " Malaysia",
          " Malaysia, Singapore",
          " Mexico",
          " Mexico",
          " Mexico",
          " Mexico",
          " Mexico, Mexico",
          " Mexico, United States",
          " Middle East, North Africa",
          " Middle East, North Africa",
          " Middle East, North Africa",
          " Middle East, North Africa",
          " Middle East, North Africa",
          " Morocco",
          " Morocco, Tunisia, Algeria",
          " Myanmar",
          " Nepal, China",
          " Nepal,China",
          " Netherlands",
          " Netherlands, United States",
          " Nigeria",
          " Nigeria",
          " Nigeria",
          " Nigeria",
          " Nigeria, Kenya",
          " North Macedonia",
          " North Macedonia",
          " North Macedonia",
          " North Macedonia",
          " North Macedonia, Bosnia and Herzegovina, Croatia",
          " North Macedonia, Croatia, Bosnia and Herzegovina",
          " North Macedonia, Croatia, Bosnia and Herzegovina, Greece",
          " North Macedonia, Croatia, Serbia, Montenegro",
          " North Macedonia, Greece",
          " North Macedonia, North Korea",
          " North Macedonia, Russia",
          " North Macedonia, Serbia",
          " North Macedonia, Serbia, Bosnia and Herzegovina",
          " Pakistan",
          " Pakistan",
          " Paraguay",
          " Peru",
          " Peru",
          " Peru",
          " Philippines",
          " Philippines",
          " Philippines",
          " Philippines",
          " Philippines, Italy",
          " Poland",
          " Poland",
          " Poland, Italy",
          " Poland, United States",
          " Portugal",
          " Portugal",
          " Rwanda, East Africa",
          " Senegal",
          " Senegal, Ivory Coast, Cameroon, Congo",
          " Senegal, West Africa",
          " Serbia",
          " Serbia",
          " Serbia, South Korea",
          " Singapore",
          " Singapore",
          " Singapore",
          " South Africa",
          " South Korea",
          " South Korea",
          " South Korea, Japan",
          " South Korea, Japan",
          " South Korea, Taiwan",
          " South Korea, United States",
          " Spain",
          " Spain",
          " Spain",
          " Spain",
          " Spain",
          " Spain",
          " Spain",
          " Spain",
          " Spain",
          " Spain, Australia",
          " Spain, China",
          " Spain, China, United States",
          " Spain, Colombia",
          " Spain, Colombia, Mexico, Ecuador",
          " Spain, Ecuador",
          " Spain, Germany",
          " Spain, Greece",
          " Spain, India, Mongolia, Malaysia",
          " Spain, Italy",
          " Spain, Mexico",
          " Spain, Russia",
          " Spain, United Arab Emirates, India",
          " Spain, United States",
          " Spain, United States, Russia",
          " Sri Lanka",
          " Sri Lanka",
          " Sri Lanka",
          " Sri Lanka",
          " Sri Lanka, India",
          " Sri Lanka, India, Malaysia, Philippines",
          " Sri Lanka, Philippines",
          " Taiwan",
          " Taiwan",
          " Taiwan",
          " Taiwan, India",
          " Taiwan, United States",
          " Taiwan, United States, South Africa, Indonesia",
          " Tanzania",
          " Thailand",
          " Thailand",
          " Thailand",
          " Tunisia",
          " Turkey",
          " Turkey",
          " Turkey",
          " Turkey",
          " Uganda",
          " Uganda, East Africa, United States",
          " Uganda, Kenya",
          " Ukraine",
          " Ukraine",
          " Ukraine, Italy",
          " United Kingdom",
          " United Kingdom",
          " United States",
          " United States",
          " United States",
          " United States",
          " United States",
          " United States",
          " United States",
          " United States",
          " United States",
          " United States",
          " United States",
          " United States",
          " United States",
          " United States",
          " United States",
          " United States",
          " United States",
          " United States",
          " United States",
          " United States",
          " United States",
          " United States",
          " United States",
          " United States",
          " United States, Canada, Australia",
          " United States, China",
          " United States, Germany",
          " United States, India",
          " United States, Nigeria",
          " United States, West Africa",
          " Venezuela",
          " Venezuela",
          " Venezuela",
          " Venezuela, Colombia, Bolivia, Ecuador",
          " Venezuela, Mexico",
          " Venezuela, United States",
          " Venezuela, United States, Spain, Italy",
          " West Africa",
          " Worldwide (in English,  German,  French,  Chinese)"
         ],
         "locationmode": "country names",
         "locations": [
          " Africa",
          " Algeria",
          " Argentina",
          " Argentina",
          " Argentina",
          " Argentina, Chile, Colombia, France",
          " Argentina, China, United States, Israel",
          " Argentina, India, United States, Spain",
          " Argentina, Spain, Colombia",
          " Argentina, Spain, Venezuela , Bolivia",
          " Asia",
          " Australia",
          " Australia",
          " Australia",
          " Australia, India, South Africa, Ivory Coast",
          " Australia, Middle East",
          " Australia, Pakistan, South Africa",
          " Australia, Russia",
          " Australia, Spain",
          " Australia,Spain",
          " Belgium",
          " Belgium",
          " Bolivia",
          " Bolivia",
          " Bolivia, Venezuela, Cuba",
          " Bosnia and Herzegovina",
          " Bosnia and Herzegovina",
          " Bosnia and Herzegovina, Serbia",
          " Bosnia and Herzegovina, Serbia",
          " Bosnia and Herzegovina, Serbia, Croatia, Montenegro",
          " Bosnia and Herzegovina, Serbia, Montenegro",
          " Brazil",
          " Brazil",
          " Brazil",
          " Burkina Faso, West Africa",
          " Canada",
          " Canada",
          " Canada",
          " Canada",
          " Canada, France",
          " Canada, United States, United Kingdom",
          " China",
          " China",
          " Colombia",
          " Colombia",
          " Colombia",
          " Colombia",
          " Colombia, Ecuador, Italy",
          " Colombia, India, Nigeria, Philippines",
          " Colombia, United States",
          " Colombia, Venezuela",
          " Costa Rica",
          " Croatia",
          " Croatia",
          " Cuba",
          " DR Congo",
          " DR Congo, Mali, Cameroon",
          " Denmark",
          " Denmark",
          " Denmark",
          " Denmark",
          " East Africa, Africa, France",
          " Ecuador",
          " Ethiopia",
          " Europe, Australia",
          " Finland",
          " France",
          " France",
          " France",
          " France",
          " France",
          " France",
          " France",
          " France",
          " France",
          " France, Algeria",
          " France, Brazil, Italy",
          " France, China",
          " France, China",
          " France, Germany",
          " France, Hungary, Azerbaijan",
          " France, Iceland",
          " France, Israel",
          " France, Italy",
          " France, Ivory Coast",
          " France, Morocco",
          " France, Portugal, Russia",
          " France, United States",
          " France, United States",
          " France, United States",
          " France, West Africa",
          " Gabon",
          " Georgia",
          " Georgia",
          " Georgia, Russia",
          " Germany",
          " Germany",
          " Germany",
          " Germany",
          " Germany",
          " Germany",
          " Germany",
          " Ghana",
          " Ghana",
          " Greece",
          " Greece",
          " Guatemala",
          " Guatemala",
          " Guatemala",
          " Hong Kong",
          " Hong Kong",
          " Iceland, France, Spain",
          " India",
          " India",
          " India",
          " India",
          " India",
          " India",
          " India",
          " India",
          " India",
          " India",
          " India",
          " India, Afghanistan",
          " India, Ivory Coast",
          " India, Mexico",
          " India, Saudi Arabia, Philippines",
          " India, Sri Lanka",
          " India, Sri Lanka",
          " Indonesia",
          " Indonesia",
          " Indonesia",
          " Indonesia, Algeria",
          " Iran",
          " Iran",
          " Iran",
          " Ireland",
          " Ireland",
          " Ireland",
          " Ireland, United Kingdom",
          " Israel",
          " Italy",
          " Italy",
          " Italy",
          " Italy, China",
          " Italy, United States",
          " Italy, Venezuela, Colombia",
          " Ivory Coast",
          " Japan",
          " Japan",
          " Japan",
          " Japan",
          " Jordan",
          " Kazakhstan",
          " Kazakhstan",
          " Kazakhstan, Kyrgyzstan",
          " Kazakhstan, Russia",
          " Kazakhstan, Russia",
          " Kazakhstan, Russia, Afghanistan",
          " Kazakhstan, Russia, Kyrgyzstan, Uzbekistan",
          " Kazakhstan, Russia, Ukraine",
          " Kazakhstan, Russia, Ukraine",
          " Kenya",
          " Kenya",
          " Kenya, Cameroon",
          " Kenya, East Africa",
          " Kenya, Gambia",
          " Kenya, Libya",
          " Kenya, South Africa",
          " Kenya, South Sudan",
          " Kenya, Uganda",
          " Kenya, United States",
          " Latvia",
          " Latvia, Ukraine, Lithuania",
          " Lithuania",
          " Lithuania",
          " Lithuania",
          " Lithuania",
          " Malaysia",
          " Malaysia, Singapore",
          " Mexico",
          " Mexico",
          " Mexico",
          " Mexico",
          " Mexico, Mexico",
          " Mexico, United States",
          " Middle East, North Africa",
          " Middle East, North Africa",
          " Middle East, North Africa",
          " Middle East, North Africa",
          " Middle East, North Africa",
          " Morocco",
          " Morocco, Tunisia, Algeria",
          " Myanmar",
          " Nepal, China",
          " Nepal,China",
          " Netherlands",
          " Netherlands, United States",
          " Nigeria",
          " Nigeria",
          " Nigeria",
          " Nigeria",
          " Nigeria, Kenya",
          " North Macedonia",
          " North Macedonia",
          " North Macedonia",
          " North Macedonia",
          " North Macedonia, Bosnia and Herzegovina, Croatia",
          " North Macedonia, Croatia, Bosnia and Herzegovina",
          " North Macedonia, Croatia, Bosnia and Herzegovina, Greece",
          " North Macedonia, Croatia, Serbia, Montenegro",
          " North Macedonia, Greece",
          " North Macedonia, North Korea",
          " North Macedonia, Russia",
          " North Macedonia, Serbia",
          " North Macedonia, Serbia, Bosnia and Herzegovina",
          " Pakistan",
          " Pakistan",
          " Paraguay",
          " Peru",
          " Peru",
          " Peru",
          " Philippines",
          " Philippines",
          " Philippines",
          " Philippines",
          " Philippines, Italy",
          " Poland",
          " Poland",
          " Poland, Italy",
          " Poland, United States",
          " Portugal",
          " Portugal",
          " Rwanda, East Africa",
          " Senegal",
          " Senegal, Ivory Coast, Cameroon, Congo",
          " Senegal, West Africa",
          " Serbia",
          " Serbia",
          " Serbia, South Korea",
          " Singapore",
          " Singapore",
          " Singapore",
          " South Africa",
          " South Korea",
          " South Korea",
          " South Korea, Japan",
          " South Korea, Japan",
          " South Korea, Taiwan",
          " South Korea, United States",
          " Spain",
          " Spain",
          " Spain",
          " Spain",
          " Spain",
          " Spain",
          " Spain",
          " Spain",
          " Spain",
          " Spain, Australia",
          " Spain, China",
          " Spain, China, United States",
          " Spain, Colombia",
          " Spain, Colombia, Mexico, Ecuador",
          " Spain, Ecuador",
          " Spain, Germany",
          " Spain, Greece",
          " Spain, India, Mongolia, Malaysia",
          " Spain, Italy",
          " Spain, Mexico",
          " Spain, Russia",
          " Spain, United Arab Emirates, India",
          " Spain, United States",
          " Spain, United States, Russia",
          " Sri Lanka",
          " Sri Lanka",
          " Sri Lanka",
          " Sri Lanka",
          " Sri Lanka, India",
          " Sri Lanka, India, Malaysia, Philippines",
          " Sri Lanka, Philippines",
          " Taiwan",
          " Taiwan",
          " Taiwan",
          " Taiwan, India",
          " Taiwan, United States",
          " Taiwan, United States, South Africa, Indonesia",
          " Tanzania",
          " Thailand",
          " Thailand",
          " Thailand",
          " Tunisia",
          " Turkey",
          " Turkey",
          " Turkey",
          " Turkey",
          " Uganda",
          " Uganda, East Africa, United States",
          " Uganda, Kenya",
          " Ukraine",
          " Ukraine",
          " Ukraine, Italy",
          " United Kingdom",
          " United Kingdom",
          " United States",
          " United States",
          " United States",
          " United States",
          " United States",
          " United States",
          " United States",
          " United States",
          " United States",
          " United States",
          " United States",
          " United States",
          " United States",
          " United States",
          " United States",
          " United States",
          " United States",
          " United States",
          " United States",
          " United States",
          " United States",
          " United States",
          " United States",
          " United States",
          " United States, Canada, Australia",
          " United States, China",
          " United States, Germany",
          " United States, India",
          " United States, Nigeria",
          " United States, West Africa",
          " Venezuela",
          " Venezuela",
          " Venezuela",
          " Venezuela, Colombia, Bolivia, Ecuador",
          " Venezuela, Mexico",
          " Venezuela, United States",
          " Venezuela, United States, Spain, Italy",
          " West Africa",
          " Worldwide (in English,  German,  French,  Chinese)"
         ],
         "name": "",
         "type": "choropleth",
         "z": [
          2,
          1,
          20,
          2,
          1,
          1,
          1,
          1,
          1,
          1,
          1,
          30,
          5,
          2,
          1,
          1,
          1,
          1,
          1,
          1,
          2,
          1,
          2,
          2,
          1,
          3,
          3,
          2,
          1,
          1,
          1,
          136,
          4,
          1,
          1,
          35,
          1,
          1,
          2,
          1,
          1,
          6,
          1,
          69,
          3,
          4,
          1,
          1,
          1,
          1,
          1,
          19,
          33,
          1,
          1,
          2,
          1,
          7,
          1,
          4,
          6,
          1,
          76,
          2,
          1,
          1,
          2,
          109,
          1,
          1,
          20,
          2,
          1,
          1,
          1,
          1,
          1,
          1,
          1,
          1,
          1,
          1,
          1,
          1,
          1,
          1,
          1,
          1,
          5,
          1,
          1,
          1,
          3,
          1,
          1,
          2,
          13,
          4,
          5,
          6,
          6,
          3,
          14,
          3,
          6,
          1,
          1,
          3,
          1,
          24,
          8,
          1,
          475,
          2,
          47,
          1,
          30,
          1,
          1,
          3,
          1,
          1,
          1,
          1,
          1,
          1,
          1,
          2,
          1,
          55,
          19,
          1,
          1,
          1,
          10,
          1,
          18,
          1,
          1,
          1,
          1,
          35,
          1,
          12,
          2,
          1,
          1,
          1,
          27,
          1,
          4,
          1,
          1,
          3,
          1,
          1,
          1,
          2,
          1,
          1,
          1,
          1,
          33,
          1,
          1,
          3,
          1,
          1,
          1,
          1,
          1,
          1,
          7,
          1,
          1,
          23,
          2,
          1,
          2,
          1,
          48,
          7,
          1,
          3,
          2,
          1,
          68,
          24,
          1,
          2,
          2,
          4,
          1,
          16,
          1,
          1,
          9,
          2,
          39,
          1,
          1,
          3,
          1,
          25,
          3,
          1,
          1,
          1,
          2,
          1,
          1,
          1,
          1,
          1,
          2,
          1,
          9,
          1,
          2,
          7,
          2,
          2,
          94,
          8,
          2,
          1,
          2,
          15,
          1,
          1,
          1,
          28,
          1,
          1,
          2,
          1,
          2,
          4,
          1,
          1,
          3,
          5,
          2,
          11,
          12,
          6,
          1,
          1,
          1,
          1,
          12,
          232,
          1,
          13,
          1,
          1,
          1,
          6,
          2,
          1,
          4,
          1,
          1,
          1,
          1,
          3,
          1,
          1,
          2,
          1,
          1,
          1,
          7,
          1,
          33,
          11,
          4,
          1,
          2,
          1,
          1,
          2,
          90,
          9,
          1,
          1,
          1,
          3,
          23,
          1,
          6,
          1,
          80,
          1,
          1,
          1,
          4,
          1,
          1,
          11,
          9,
          1,
          1,
          1,
          6,
          292,
          2,
          6,
          3,
          1,
          4,
          20,
          1,
          3,
          2,
          18,
          1,
          7,
          2,
          1,
          38,
          1,
          1,
          1,
          2,
          2,
          1,
          2,
          1,
          1,
          1,
          1,
          1,
          1,
          20,
          1,
          1,
          1,
          1,
          1,
          1,
          3,
          1
         ]
        }
       ],
       "layout": {
        "coloraxis": {
         "colorbar": {
          "title": {
           "text": "FALSE"
          }
         },
         "colorscale": [
          [
           0,
           "rgb(255,245,235)"
          ],
          [
           0.125,
           "rgb(254,230,206)"
          ],
          [
           0.25,
           "rgb(253,208,162)"
          ],
          [
           0.375,
           "rgb(253,174,107)"
          ],
          [
           0.5,
           "rgb(253,141,60)"
          ],
          [
           0.625,
           "rgb(241,105,19)"
          ],
          [
           0.75,
           "rgb(217,72,1)"
          ],
          [
           0.875,
           "rgb(166,54,3)"
          ],
          [
           1,
           "rgb(127,39,4)"
          ]
         ],
         "showscale": true
        },
        "geo": {
         "center": {},
         "domain": {
          "x": [
           0,
           0.98
          ],
          "y": [
           0,
           1
          ]
         },
         "projection": {
          "type": "mercator"
         }
        },
        "height": 600,
        "legend": {
         "tracegroupgap": 0
        },
        "margin": {
         "t": 60
        },
        "template": {
         "data": {
          "bar": [
           {
            "error_x": {
             "color": "#2a3f5f"
            },
            "error_y": {
             "color": "#2a3f5f"
            },
            "marker": {
             "line": {
              "color": "#E5ECF6",
              "width": 0.5
             }
            },
            "type": "bar"
           }
          ],
          "barpolar": [
           {
            "marker": {
             "line": {
              "color": "#E5ECF6",
              "width": 0.5
             }
            },
            "type": "barpolar"
           }
          ],
          "carpet": [
           {
            "aaxis": {
             "endlinecolor": "#2a3f5f",
             "gridcolor": "white",
             "linecolor": "white",
             "minorgridcolor": "white",
             "startlinecolor": "#2a3f5f"
            },
            "baxis": {
             "endlinecolor": "#2a3f5f",
             "gridcolor": "white",
             "linecolor": "white",
             "minorgridcolor": "white",
             "startlinecolor": "#2a3f5f"
            },
            "type": "carpet"
           }
          ],
          "choropleth": [
           {
            "colorbar": {
             "outlinewidth": 0,
             "ticks": ""
            },
            "type": "choropleth"
           }
          ],
          "contour": [
           {
            "colorbar": {
             "outlinewidth": 0,
             "ticks": ""
            },
            "colorscale": [
             [
              0,
              "#0d0887"
             ],
             [
              0.1111111111111111,
              "#46039f"
             ],
             [
              0.2222222222222222,
              "#7201a8"
             ],
             [
              0.3333333333333333,
              "#9c179e"
             ],
             [
              0.4444444444444444,
              "#bd3786"
             ],
             [
              0.5555555555555556,
              "#d8576b"
             ],
             [
              0.6666666666666666,
              "#ed7953"
             ],
             [
              0.7777777777777778,
              "#fb9f3a"
             ],
             [
              0.8888888888888888,
              "#fdca26"
             ],
             [
              1,
              "#f0f921"
             ]
            ],
            "type": "contour"
           }
          ],
          "contourcarpet": [
           {
            "colorbar": {
             "outlinewidth": 0,
             "ticks": ""
            },
            "type": "contourcarpet"
           }
          ],
          "heatmap": [
           {
            "colorbar": {
             "outlinewidth": 0,
             "ticks": ""
            },
            "colorscale": [
             [
              0,
              "#0d0887"
             ],
             [
              0.1111111111111111,
              "#46039f"
             ],
             [
              0.2222222222222222,
              "#7201a8"
             ],
             [
              0.3333333333333333,
              "#9c179e"
             ],
             [
              0.4444444444444444,
              "#bd3786"
             ],
             [
              0.5555555555555556,
              "#d8576b"
             ],
             [
              0.6666666666666666,
              "#ed7953"
             ],
             [
              0.7777777777777778,
              "#fb9f3a"
             ],
             [
              0.8888888888888888,
              "#fdca26"
             ],
             [
              1,
              "#f0f921"
             ]
            ],
            "type": "heatmap"
           }
          ],
          "heatmapgl": [
           {
            "colorbar": {
             "outlinewidth": 0,
             "ticks": ""
            },
            "colorscale": [
             [
              0,
              "#0d0887"
             ],
             [
              0.1111111111111111,
              "#46039f"
             ],
             [
              0.2222222222222222,
              "#7201a8"
             ],
             [
              0.3333333333333333,
              "#9c179e"
             ],
             [
              0.4444444444444444,
              "#bd3786"
             ],
             [
              0.5555555555555556,
              "#d8576b"
             ],
             [
              0.6666666666666666,
              "#ed7953"
             ],
             [
              0.7777777777777778,
              "#fb9f3a"
             ],
             [
              0.8888888888888888,
              "#fdca26"
             ],
             [
              1,
              "#f0f921"
             ]
            ],
            "type": "heatmapgl"
           }
          ],
          "histogram": [
           {
            "marker": {
             "colorbar": {
              "outlinewidth": 0,
              "ticks": ""
             }
            },
            "type": "histogram"
           }
          ],
          "histogram2d": [
           {
            "colorbar": {
             "outlinewidth": 0,
             "ticks": ""
            },
            "colorscale": [
             [
              0,
              "#0d0887"
             ],
             [
              0.1111111111111111,
              "#46039f"
             ],
             [
              0.2222222222222222,
              "#7201a8"
             ],
             [
              0.3333333333333333,
              "#9c179e"
             ],
             [
              0.4444444444444444,
              "#bd3786"
             ],
             [
              0.5555555555555556,
              "#d8576b"
             ],
             [
              0.6666666666666666,
              "#ed7953"
             ],
             [
              0.7777777777777778,
              "#fb9f3a"
             ],
             [
              0.8888888888888888,
              "#fdca26"
             ],
             [
              1,
              "#f0f921"
             ]
            ],
            "type": "histogram2d"
           }
          ],
          "histogram2dcontour": [
           {
            "colorbar": {
             "outlinewidth": 0,
             "ticks": ""
            },
            "colorscale": [
             [
              0,
              "#0d0887"
             ],
             [
              0.1111111111111111,
              "#46039f"
             ],
             [
              0.2222222222222222,
              "#7201a8"
             ],
             [
              0.3333333333333333,
              "#9c179e"
             ],
             [
              0.4444444444444444,
              "#bd3786"
             ],
             [
              0.5555555555555556,
              "#d8576b"
             ],
             [
              0.6666666666666666,
              "#ed7953"
             ],
             [
              0.7777777777777778,
              "#fb9f3a"
             ],
             [
              0.8888888888888888,
              "#fdca26"
             ],
             [
              1,
              "#f0f921"
             ]
            ],
            "type": "histogram2dcontour"
           }
          ],
          "mesh3d": [
           {
            "colorbar": {
             "outlinewidth": 0,
             "ticks": ""
            },
            "type": "mesh3d"
           }
          ],
          "parcoords": [
           {
            "line": {
             "colorbar": {
              "outlinewidth": 0,
              "ticks": ""
             }
            },
            "type": "parcoords"
           }
          ],
          "scatter": [
           {
            "marker": {
             "colorbar": {
              "outlinewidth": 0,
              "ticks": ""
             }
            },
            "type": "scatter"
           }
          ],
          "scatter3d": [
           {
            "line": {
             "colorbar": {
              "outlinewidth": 0,
              "ticks": ""
             }
            },
            "marker": {
             "colorbar": {
              "outlinewidth": 0,
              "ticks": ""
             }
            },
            "type": "scatter3d"
           }
          ],
          "scattercarpet": [
           {
            "marker": {
             "colorbar": {
              "outlinewidth": 0,
              "ticks": ""
             }
            },
            "type": "scattercarpet"
           }
          ],
          "scattergeo": [
           {
            "marker": {
             "colorbar": {
              "outlinewidth": 0,
              "ticks": ""
             }
            },
            "type": "scattergeo"
           }
          ],
          "scattergl": [
           {
            "marker": {
             "colorbar": {
              "outlinewidth": 0,
              "ticks": ""
             }
            },
            "type": "scattergl"
           }
          ],
          "scattermapbox": [
           {
            "marker": {
             "colorbar": {
              "outlinewidth": 0,
              "ticks": ""
             }
            },
            "type": "scattermapbox"
           }
          ],
          "scatterpolar": [
           {
            "marker": {
             "colorbar": {
              "outlinewidth": 0,
              "ticks": ""
             }
            },
            "type": "scatterpolar"
           }
          ],
          "scatterpolargl": [
           {
            "marker": {
             "colorbar": {
              "outlinewidth": 0,
              "ticks": ""
             }
            },
            "type": "scatterpolargl"
           }
          ],
          "scatterternary": [
           {
            "marker": {
             "colorbar": {
              "outlinewidth": 0,
              "ticks": ""
             }
            },
            "type": "scatterternary"
           }
          ],
          "surface": [
           {
            "colorbar": {
             "outlinewidth": 0,
             "ticks": ""
            },
            "colorscale": [
             [
              0,
              "#0d0887"
             ],
             [
              0.1111111111111111,
              "#46039f"
             ],
             [
              0.2222222222222222,
              "#7201a8"
             ],
             [
              0.3333333333333333,
              "#9c179e"
             ],
             [
              0.4444444444444444,
              "#bd3786"
             ],
             [
              0.5555555555555556,
              "#d8576b"
             ],
             [
              0.6666666666666666,
              "#ed7953"
             ],
             [
              0.7777777777777778,
              "#fb9f3a"
             ],
             [
              0.8888888888888888,
              "#fdca26"
             ],
             [
              1,
              "#f0f921"
             ]
            ],
            "type": "surface"
           }
          ],
          "table": [
           {
            "cells": {
             "fill": {
              "color": "#EBF0F8"
             },
             "line": {
              "color": "white"
             }
            },
            "header": {
             "fill": {
              "color": "#C8D4E3"
             },
             "line": {
              "color": "white"
             }
            },
            "type": "table"
           }
          ]
         },
         "layout": {
          "annotationdefaults": {
           "arrowcolor": "#2a3f5f",
           "arrowhead": 0,
           "arrowwidth": 1
          },
          "colorscale": {
           "diverging": [
            [
             0,
             "#8e0152"
            ],
            [
             0.1,
             "#c51b7d"
            ],
            [
             0.2,
             "#de77ae"
            ],
            [
             0.3,
             "#f1b6da"
            ],
            [
             0.4,
             "#fde0ef"
            ],
            [
             0.5,
             "#f7f7f7"
            ],
            [
             0.6,
             "#e6f5d0"
            ],
            [
             0.7,
             "#b8e186"
            ],
            [
             0.8,
             "#7fbc41"
            ],
            [
             0.9,
             "#4d9221"
            ],
            [
             1,
             "#276419"
            ]
           ],
           "sequential": [
            [
             0,
             "#0d0887"
            ],
            [
             0.1111111111111111,
             "#46039f"
            ],
            [
             0.2222222222222222,
             "#7201a8"
            ],
            [
             0.3333333333333333,
             "#9c179e"
            ],
            [
             0.4444444444444444,
             "#bd3786"
            ],
            [
             0.5555555555555556,
             "#d8576b"
            ],
            [
             0.6666666666666666,
             "#ed7953"
            ],
            [
             0.7777777777777778,
             "#fb9f3a"
            ],
            [
             0.8888888888888888,
             "#fdca26"
            ],
            [
             1,
             "#f0f921"
            ]
           ],
           "sequentialminus": [
            [
             0,
             "#0d0887"
            ],
            [
             0.1111111111111111,
             "#46039f"
            ],
            [
             0.2222222222222222,
             "#7201a8"
            ],
            [
             0.3333333333333333,
             "#9c179e"
            ],
            [
             0.4444444444444444,
             "#bd3786"
            ],
            [
             0.5555555555555556,
             "#d8576b"
            ],
            [
             0.6666666666666666,
             "#ed7953"
            ],
            [
             0.7777777777777778,
             "#fb9f3a"
            ],
            [
             0.8888888888888888,
             "#fdca26"
            ],
            [
             1,
             "#f0f921"
            ]
           ]
          },
          "colorway": [
           "#636efa",
           "#EF553B",
           "#00cc96",
           "#ab63fa",
           "#FFA15A",
           "#19d3f3",
           "#FF6692",
           "#B6E880",
           "#FF97FF",
           "#FECB52"
          ],
          "font": {
           "color": "#2a3f5f"
          },
          "geo": {
           "bgcolor": "white",
           "lakecolor": "white",
           "landcolor": "#E5ECF6",
           "showlakes": true,
           "showland": true,
           "subunitcolor": "white"
          },
          "hoverlabel": {
           "align": "left"
          },
          "hovermode": "closest",
          "mapbox": {
           "style": "light"
          },
          "paper_bgcolor": "white",
          "plot_bgcolor": "#E5ECF6",
          "polar": {
           "angularaxis": {
            "gridcolor": "white",
            "linecolor": "white",
            "ticks": ""
           },
           "bgcolor": "#E5ECF6",
           "radialaxis": {
            "gridcolor": "white",
            "linecolor": "white",
            "ticks": ""
           }
          },
          "scene": {
           "xaxis": {
            "backgroundcolor": "#E5ECF6",
            "gridcolor": "white",
            "gridwidth": 2,
            "linecolor": "white",
            "showbackground": true,
            "ticks": "",
            "zerolinecolor": "white"
           },
           "yaxis": {
            "backgroundcolor": "#E5ECF6",
            "gridcolor": "white",
            "gridwidth": 2,
            "linecolor": "white",
            "showbackground": true,
            "ticks": "",
            "zerolinecolor": "white"
           },
           "zaxis": {
            "backgroundcolor": "#E5ECF6",
            "gridcolor": "white",
            "gridwidth": 2,
            "linecolor": "white",
            "showbackground": true,
            "ticks": "",
            "zerolinecolor": "white"
           }
          },
          "shapedefaults": {
           "line": {
            "color": "#2a3f5f"
           }
          },
          "ternary": {
           "aaxis": {
            "gridcolor": "white",
            "linecolor": "white",
            "ticks": ""
           },
           "baxis": {
            "gridcolor": "white",
            "linecolor": "white",
            "ticks": ""
           },
           "bgcolor": "#E5ECF6",
           "caxis": {
            "gridcolor": "white",
            "linecolor": "white",
            "ticks": ""
           }
          },
          "title": {
           "x": 0.05
          },
          "xaxis": {
           "automargin": true,
           "gridcolor": "white",
           "linecolor": "white",
           "ticks": "",
           "zerolinecolor": "white",
           "zerolinewidth": 2
          },
          "yaxis": {
           "automargin": true,
           "gridcolor": "white",
           "linecolor": "white",
           "ticks": "",
           "zerolinecolor": "white",
           "zerolinewidth": 2
          }
         }
        }
       }
      }
     },
     "metadata": {}
    }
   ],
   "source": [
    "fig = px.choropleth(cases_to_plot, locations=\"country\", locationmode='country names', \n",
    "                     color=\"FALSE\", hover_name=\"country\",projection=\"mercator\",\n",
    "                     color_continuous_scale='Oranges')\n",
    "fig.update(layout_coloraxis_showscale=True)"
   ]
  }
 ],
 "metadata": {
  "language_info": {
   "codemirror_mode": {
    "name": "ipython",
    "version": 3
   },
   "file_extension": ".py",
   "mimetype": "text/x-python",
   "name": "python",
   "nbconvert_exporter": "python",
   "pygments_lexer": "ipython3",
   "version": "3.7.7-final"
  },
  "orig_nbformat": 2,
  "kernelspec": {
   "name": "python3",
   "display_name": "Python 3"
  }
 },
 "nbformat": 4,
 "nbformat_minor": 2
}